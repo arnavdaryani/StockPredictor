{
 "cells": [
  {
   "cell_type": "code",
   "execution_count": 345,
   "metadata": {},
   "outputs": [],
   "source": [
    "import numpy as np\n",
    "import pandas as pd\n",
    "import matplotlib.pyplot as plt\n",
    "import yfinance as yf"
   ]
  },
  {
   "cell_type": "code",
   "execution_count": 346,
   "metadata": {},
   "outputs": [
    {
     "name": "stderr",
     "output_type": "stream",
     "text": [
      "[*********************100%%**********************]  1 of 1 completed\n"
     ]
    },
    {
     "data": {
      "text/html": [
       "<div>\n",
       "<style scoped>\n",
       "    .dataframe tbody tr th:only-of-type {\n",
       "        vertical-align: middle;\n",
       "    }\n",
       "\n",
       "    .dataframe tbody tr th {\n",
       "        vertical-align: top;\n",
       "    }\n",
       "\n",
       "    .dataframe thead th {\n",
       "        text-align: right;\n",
       "    }\n",
       "</style>\n",
       "<table border=\"1\" class=\"dataframe\">\n",
       "  <thead>\n",
       "    <tr style=\"text-align: right;\">\n",
       "      <th></th>\n",
       "      <th>Open</th>\n",
       "      <th>High</th>\n",
       "      <th>Low</th>\n",
       "      <th>Close</th>\n",
       "      <th>Adj Close</th>\n",
       "      <th>Volume</th>\n",
       "    </tr>\n",
       "    <tr>\n",
       "      <th>Date</th>\n",
       "      <th></th>\n",
       "      <th></th>\n",
       "      <th></th>\n",
       "      <th></th>\n",
       "      <th></th>\n",
       "      <th></th>\n",
       "    </tr>\n",
       "  </thead>\n",
       "  <tbody>\n",
       "    <tr>\n",
       "      <th>2010-01-04</th>\n",
       "      <td>7.622500</td>\n",
       "      <td>7.660714</td>\n",
       "      <td>7.585000</td>\n",
       "      <td>7.643214</td>\n",
       "      <td>6.461977</td>\n",
       "      <td>493729600</td>\n",
       "    </tr>\n",
       "    <tr>\n",
       "      <th>2010-01-05</th>\n",
       "      <td>7.664286</td>\n",
       "      <td>7.699643</td>\n",
       "      <td>7.616071</td>\n",
       "      <td>7.656429</td>\n",
       "      <td>6.473149</td>\n",
       "      <td>601904800</td>\n",
       "    </tr>\n",
       "    <tr>\n",
       "      <th>2010-01-06</th>\n",
       "      <td>7.656429</td>\n",
       "      <td>7.686786</td>\n",
       "      <td>7.526786</td>\n",
       "      <td>7.534643</td>\n",
       "      <td>6.370183</td>\n",
       "      <td>552160000</td>\n",
       "    </tr>\n",
       "    <tr>\n",
       "      <th>2010-01-07</th>\n",
       "      <td>7.562500</td>\n",
       "      <td>7.571429</td>\n",
       "      <td>7.466071</td>\n",
       "      <td>7.520714</td>\n",
       "      <td>6.358408</td>\n",
       "      <td>477131200</td>\n",
       "    </tr>\n",
       "    <tr>\n",
       "      <th>2010-01-08</th>\n",
       "      <td>7.510714</td>\n",
       "      <td>7.571429</td>\n",
       "      <td>7.466429</td>\n",
       "      <td>7.570714</td>\n",
       "      <td>6.400681</td>\n",
       "      <td>447610800</td>\n",
       "    </tr>\n",
       "  </tbody>\n",
       "</table>\n",
       "</div>"
      ],
      "text/plain": [
       "                Open      High       Low     Close  Adj Close     Volume\n",
       "Date                                                                    \n",
       "2010-01-04  7.622500  7.660714  7.585000  7.643214   6.461977  493729600\n",
       "2010-01-05  7.664286  7.699643  7.616071  7.656429   6.473149  601904800\n",
       "2010-01-06  7.656429  7.686786  7.526786  7.534643   6.370183  552160000\n",
       "2010-01-07  7.562500  7.571429  7.466071  7.520714   6.358408  477131200\n",
       "2010-01-08  7.510714  7.571429  7.466429  7.570714   6.400681  447610800"
      ]
     },
     "execution_count": 346,
     "metadata": {},
     "output_type": "execute_result"
    }
   ],
   "source": [
    "start = '2010-01-01'\n",
    "end = '2024-05-23'\n",
    "\n",
    "df = yf.download('AAPL', start=start, end=end)\n",
    "df.head()"
   ]
  },
  {
   "cell_type": "code",
   "execution_count": 347,
   "metadata": {},
   "outputs": [
    {
     "data": {
      "text/html": [
       "<div>\n",
       "<style scoped>\n",
       "    .dataframe tbody tr th:only-of-type {\n",
       "        vertical-align: middle;\n",
       "    }\n",
       "\n",
       "    .dataframe tbody tr th {\n",
       "        vertical-align: top;\n",
       "    }\n",
       "\n",
       "    .dataframe thead th {\n",
       "        text-align: right;\n",
       "    }\n",
       "</style>\n",
       "<table border=\"1\" class=\"dataframe\">\n",
       "  <thead>\n",
       "    <tr style=\"text-align: right;\">\n",
       "      <th></th>\n",
       "      <th>Open</th>\n",
       "      <th>High</th>\n",
       "      <th>Low</th>\n",
       "      <th>Close</th>\n",
       "      <th>Adj Close</th>\n",
       "      <th>Volume</th>\n",
       "    </tr>\n",
       "    <tr>\n",
       "      <th>Date</th>\n",
       "      <th></th>\n",
       "      <th></th>\n",
       "      <th></th>\n",
       "      <th></th>\n",
       "      <th></th>\n",
       "      <th></th>\n",
       "    </tr>\n",
       "  </thead>\n",
       "  <tbody>\n",
       "    <tr>\n",
       "      <th>2024-05-16</th>\n",
       "      <td>190.470001</td>\n",
       "      <td>191.100006</td>\n",
       "      <td>189.660004</td>\n",
       "      <td>189.839996</td>\n",
       "      <td>189.839996</td>\n",
       "      <td>52845200</td>\n",
       "    </tr>\n",
       "    <tr>\n",
       "      <th>2024-05-17</th>\n",
       "      <td>189.509995</td>\n",
       "      <td>190.809998</td>\n",
       "      <td>189.179993</td>\n",
       "      <td>189.869995</td>\n",
       "      <td>189.869995</td>\n",
       "      <td>41282900</td>\n",
       "    </tr>\n",
       "    <tr>\n",
       "      <th>2024-05-20</th>\n",
       "      <td>189.330002</td>\n",
       "      <td>191.919998</td>\n",
       "      <td>189.009995</td>\n",
       "      <td>191.039993</td>\n",
       "      <td>191.039993</td>\n",
       "      <td>44361300</td>\n",
       "    </tr>\n",
       "    <tr>\n",
       "      <th>2024-05-21</th>\n",
       "      <td>191.089996</td>\n",
       "      <td>192.729996</td>\n",
       "      <td>190.919998</td>\n",
       "      <td>192.350006</td>\n",
       "      <td>192.350006</td>\n",
       "      <td>42309400</td>\n",
       "    </tr>\n",
       "    <tr>\n",
       "      <th>2024-05-22</th>\n",
       "      <td>192.270004</td>\n",
       "      <td>192.820007</td>\n",
       "      <td>190.270004</td>\n",
       "      <td>190.899994</td>\n",
       "      <td>190.899994</td>\n",
       "      <td>34648500</td>\n",
       "    </tr>\n",
       "  </tbody>\n",
       "</table>\n",
       "</div>"
      ],
      "text/plain": [
       "                  Open        High         Low       Close   Adj Close  \\\n",
       "Date                                                                     \n",
       "2024-05-16  190.470001  191.100006  189.660004  189.839996  189.839996   \n",
       "2024-05-17  189.509995  190.809998  189.179993  189.869995  189.869995   \n",
       "2024-05-20  189.330002  191.919998  189.009995  191.039993  191.039993   \n",
       "2024-05-21  191.089996  192.729996  190.919998  192.350006  192.350006   \n",
       "2024-05-22  192.270004  192.820007  190.270004  190.899994  190.899994   \n",
       "\n",
       "              Volume  \n",
       "Date                  \n",
       "2024-05-16  52845200  \n",
       "2024-05-17  41282900  \n",
       "2024-05-20  44361300  \n",
       "2024-05-21  42309400  \n",
       "2024-05-22  34648500  "
      ]
     },
     "execution_count": 347,
     "metadata": {},
     "output_type": "execute_result"
    }
   ],
   "source": [
    "df.tail()"
   ]
  },
  {
   "cell_type": "code",
   "execution_count": 348,
   "metadata": {},
   "outputs": [
    {
     "data": {
      "text/html": [
       "<div>\n",
       "<style scoped>\n",
       "    .dataframe tbody tr th:only-of-type {\n",
       "        vertical-align: middle;\n",
       "    }\n",
       "\n",
       "    .dataframe tbody tr th {\n",
       "        vertical-align: top;\n",
       "    }\n",
       "\n",
       "    .dataframe thead th {\n",
       "        text-align: right;\n",
       "    }\n",
       "</style>\n",
       "<table border=\"1\" class=\"dataframe\">\n",
       "  <thead>\n",
       "    <tr style=\"text-align: right;\">\n",
       "      <th></th>\n",
       "      <th>Date</th>\n",
       "      <th>Open</th>\n",
       "      <th>High</th>\n",
       "      <th>Low</th>\n",
       "      <th>Close</th>\n",
       "      <th>Adj Close</th>\n",
       "      <th>Volume</th>\n",
       "    </tr>\n",
       "  </thead>\n",
       "  <tbody>\n",
       "    <tr>\n",
       "      <th>0</th>\n",
       "      <td>2010-01-04</td>\n",
       "      <td>7.622500</td>\n",
       "      <td>7.660714</td>\n",
       "      <td>7.585000</td>\n",
       "      <td>7.643214</td>\n",
       "      <td>6.461977</td>\n",
       "      <td>493729600</td>\n",
       "    </tr>\n",
       "    <tr>\n",
       "      <th>1</th>\n",
       "      <td>2010-01-05</td>\n",
       "      <td>7.664286</td>\n",
       "      <td>7.699643</td>\n",
       "      <td>7.616071</td>\n",
       "      <td>7.656429</td>\n",
       "      <td>6.473149</td>\n",
       "      <td>601904800</td>\n",
       "    </tr>\n",
       "    <tr>\n",
       "      <th>2</th>\n",
       "      <td>2010-01-06</td>\n",
       "      <td>7.656429</td>\n",
       "      <td>7.686786</td>\n",
       "      <td>7.526786</td>\n",
       "      <td>7.534643</td>\n",
       "      <td>6.370183</td>\n",
       "      <td>552160000</td>\n",
       "    </tr>\n",
       "    <tr>\n",
       "      <th>3</th>\n",
       "      <td>2010-01-07</td>\n",
       "      <td>7.562500</td>\n",
       "      <td>7.571429</td>\n",
       "      <td>7.466071</td>\n",
       "      <td>7.520714</td>\n",
       "      <td>6.358408</td>\n",
       "      <td>477131200</td>\n",
       "    </tr>\n",
       "    <tr>\n",
       "      <th>4</th>\n",
       "      <td>2010-01-08</td>\n",
       "      <td>7.510714</td>\n",
       "      <td>7.571429</td>\n",
       "      <td>7.466429</td>\n",
       "      <td>7.570714</td>\n",
       "      <td>6.400681</td>\n",
       "      <td>447610800</td>\n",
       "    </tr>\n",
       "  </tbody>\n",
       "</table>\n",
       "</div>"
      ],
      "text/plain": [
       "        Date      Open      High       Low     Close  Adj Close     Volume\n",
       "0 2010-01-04  7.622500  7.660714  7.585000  7.643214   6.461977  493729600\n",
       "1 2010-01-05  7.664286  7.699643  7.616071  7.656429   6.473149  601904800\n",
       "2 2010-01-06  7.656429  7.686786  7.526786  7.534643   6.370183  552160000\n",
       "3 2010-01-07  7.562500  7.571429  7.466071  7.520714   6.358408  477131200\n",
       "4 2010-01-08  7.510714  7.571429  7.466429  7.570714   6.400681  447610800"
      ]
     },
     "execution_count": 348,
     "metadata": {},
     "output_type": "execute_result"
    }
   ],
   "source": [
    "df = df.reset_index()\n",
    "df.head()"
   ]
  },
  {
   "cell_type": "code",
   "execution_count": 349,
   "metadata": {},
   "outputs": [
    {
     "data": {
      "text/html": [
       "<div>\n",
       "<style scoped>\n",
       "    .dataframe tbody tr th:only-of-type {\n",
       "        vertical-align: middle;\n",
       "    }\n",
       "\n",
       "    .dataframe tbody tr th {\n",
       "        vertical-align: top;\n",
       "    }\n",
       "\n",
       "    .dataframe thead th {\n",
       "        text-align: right;\n",
       "    }\n",
       "</style>\n",
       "<table border=\"1\" class=\"dataframe\">\n",
       "  <thead>\n",
       "    <tr style=\"text-align: right;\">\n",
       "      <th></th>\n",
       "      <th>Open</th>\n",
       "      <th>High</th>\n",
       "      <th>Low</th>\n",
       "      <th>Close</th>\n",
       "      <th>Volume</th>\n",
       "    </tr>\n",
       "  </thead>\n",
       "  <tbody>\n",
       "    <tr>\n",
       "      <th>0</th>\n",
       "      <td>7.622500</td>\n",
       "      <td>7.660714</td>\n",
       "      <td>7.585000</td>\n",
       "      <td>7.643214</td>\n",
       "      <td>493729600</td>\n",
       "    </tr>\n",
       "    <tr>\n",
       "      <th>1</th>\n",
       "      <td>7.664286</td>\n",
       "      <td>7.699643</td>\n",
       "      <td>7.616071</td>\n",
       "      <td>7.656429</td>\n",
       "      <td>601904800</td>\n",
       "    </tr>\n",
       "    <tr>\n",
       "      <th>2</th>\n",
       "      <td>7.656429</td>\n",
       "      <td>7.686786</td>\n",
       "      <td>7.526786</td>\n",
       "      <td>7.534643</td>\n",
       "      <td>552160000</td>\n",
       "    </tr>\n",
       "    <tr>\n",
       "      <th>3</th>\n",
       "      <td>7.562500</td>\n",
       "      <td>7.571429</td>\n",
       "      <td>7.466071</td>\n",
       "      <td>7.520714</td>\n",
       "      <td>477131200</td>\n",
       "    </tr>\n",
       "    <tr>\n",
       "      <th>4</th>\n",
       "      <td>7.510714</td>\n",
       "      <td>7.571429</td>\n",
       "      <td>7.466429</td>\n",
       "      <td>7.570714</td>\n",
       "      <td>447610800</td>\n",
       "    </tr>\n",
       "  </tbody>\n",
       "</table>\n",
       "</div>"
      ],
      "text/plain": [
       "       Open      High       Low     Close     Volume\n",
       "0  7.622500  7.660714  7.585000  7.643214  493729600\n",
       "1  7.664286  7.699643  7.616071  7.656429  601904800\n",
       "2  7.656429  7.686786  7.526786  7.534643  552160000\n",
       "3  7.562500  7.571429  7.466071  7.520714  477131200\n",
       "4  7.510714  7.571429  7.466429  7.570714  447610800"
      ]
     },
     "execution_count": 349,
     "metadata": {},
     "output_type": "execute_result"
    }
   ],
   "source": [
    "df = df.drop(['Date', 'Adj Close'], axis = 1)\n",
    "df.head()"
   ]
  },
  {
   "cell_type": "code",
   "execution_count": 350,
   "metadata": {},
   "outputs": [
    {
     "data": {
      "text/plain": [
       "[<matplotlib.lines.Line2D at 0x18ec4d100>]"
      ]
     },
     "execution_count": 350,
     "metadata": {},
     "output_type": "execute_result"
    },
    {
     "data": {
      "image/png": "[encoded data removed]",
      "text/plain": [
       "<Figure size 640x480 with 1 Axes>"
      ]
     },
     "metadata": {},
     "output_type": "display_data"
    }
   ],
   "source": [
    "plt.plot(df.Close)"
   ]
  },
  {
   "cell_type": "code",
   "execution_count": 351,
   "metadata": {},
   "outputs": [
    {
     "data": {
      "text/html": [
       "<div>\n",
       "<style scoped>\n",
       "    .dataframe tbody tr th:only-of-type {\n",
       "        vertical-align: middle;\n",
       "    }\n",
       "\n",
       "    .dataframe tbody tr th {\n",
       "        vertical-align: top;\n",
       "    }\n",
       "\n",
       "    .dataframe thead th {\n",
       "        text-align: right;\n",
       "    }\n",
       "</style>\n",
       "<table border=\"1\" class=\"dataframe\">\n",
       "  <thead>\n",
       "    <tr style=\"text-align: right;\">\n",
       "      <th></th>\n",
       "      <th>Open</th>\n",
       "      <th>High</th>\n",
       "      <th>Low</th>\n",
       "      <th>Close</th>\n",
       "      <th>Volume</th>\n",
       "    </tr>\n",
       "  </thead>\n",
       "  <tbody>\n",
       "    <tr>\n",
       "      <th>0</th>\n",
       "      <td>7.622500</td>\n",
       "      <td>7.660714</td>\n",
       "      <td>7.585000</td>\n",
       "      <td>7.643214</td>\n",
       "      <td>493729600</td>\n",
       "    </tr>\n",
       "    <tr>\n",
       "      <th>1</th>\n",
       "      <td>7.664286</td>\n",
       "      <td>7.699643</td>\n",
       "      <td>7.616071</td>\n",
       "      <td>7.656429</td>\n",
       "      <td>601904800</td>\n",
       "    </tr>\n",
       "    <tr>\n",
       "      <th>2</th>\n",
       "      <td>7.656429</td>\n",
       "      <td>7.686786</td>\n",
       "      <td>7.526786</td>\n",
       "      <td>7.534643</td>\n",
       "      <td>552160000</td>\n",
       "    </tr>\n",
       "    <tr>\n",
       "      <th>3</th>\n",
       "      <td>7.562500</td>\n",
       "      <td>7.571429</td>\n",
       "      <td>7.466071</td>\n",
       "      <td>7.520714</td>\n",
       "      <td>477131200</td>\n",
       "    </tr>\n",
       "    <tr>\n",
       "      <th>4</th>\n",
       "      <td>7.510714</td>\n",
       "      <td>7.571429</td>\n",
       "      <td>7.466429</td>\n",
       "      <td>7.570714</td>\n",
       "      <td>447610800</td>\n",
       "    </tr>\n",
       "    <tr>\n",
       "      <th>...</th>\n",
       "      <td>...</td>\n",
       "      <td>...</td>\n",
       "      <td>...</td>\n",
       "      <td>...</td>\n",
       "      <td>...</td>\n",
       "    </tr>\n",
       "    <tr>\n",
       "      <th>3616</th>\n",
       "      <td>190.470001</td>\n",
       "      <td>191.100006</td>\n",
       "      <td>189.660004</td>\n",
       "      <td>189.839996</td>\n",
       "      <td>52845200</td>\n",
       "    </tr>\n",
       "    <tr>\n",
       "      <th>3617</th>\n",
       "      <td>189.509995</td>\n",
       "      <td>190.809998</td>\n",
       "      <td>189.179993</td>\n",
       "      <td>189.869995</td>\n",
       "      <td>41282900</td>\n",
       "    </tr>\n",
       "    <tr>\n",
       "      <th>3618</th>\n",
       "      <td>189.330002</td>\n",
       "      <td>191.919998</td>\n",
       "      <td>189.009995</td>\n",
       "      <td>191.039993</td>\n",
       "      <td>44361300</td>\n",
       "    </tr>\n",
       "    <tr>\n",
       "      <th>3619</th>\n",
       "      <td>191.089996</td>\n",
       "      <td>192.729996</td>\n",
       "      <td>190.919998</td>\n",
       "      <td>192.350006</td>\n",
       "      <td>42309400</td>\n",
       "    </tr>\n",
       "    <tr>\n",
       "      <th>3620</th>\n",
       "      <td>192.270004</td>\n",
       "      <td>192.820007</td>\n",
       "      <td>190.270004</td>\n",
       "      <td>190.899994</td>\n",
       "      <td>34648500</td>\n",
       "    </tr>\n",
       "  </tbody>\n",
       "</table>\n",
       "<p>3621 rows × 5 columns</p>\n",
       "</div>"
      ],
      "text/plain": [
       "            Open        High         Low       Close     Volume\n",
       "0       7.622500    7.660714    7.585000    7.643214  493729600\n",
       "1       7.664286    7.699643    7.616071    7.656429  601904800\n",
       "2       7.656429    7.686786    7.526786    7.534643  552160000\n",
       "3       7.562500    7.571429    7.466071    7.520714  477131200\n",
       "4       7.510714    7.571429    7.466429    7.570714  447610800\n",
       "...          ...         ...         ...         ...        ...\n",
       "3616  190.470001  191.100006  189.660004  189.839996   52845200\n",
       "3617  189.509995  190.809998  189.179993  189.869995   41282900\n",
       "3618  189.330002  191.919998  189.009995  191.039993   44361300\n",
       "3619  191.089996  192.729996  190.919998  192.350006   42309400\n",
       "3620  192.270004  192.820007  190.270004  190.899994   34648500\n",
       "\n",
       "[3621 rows x 5 columns]"
      ]
     },
     "execution_count": 351,
     "metadata": {},
     "output_type": "execute_result"
    }
   ],
   "source": [
    "df"
   ]
  },
  {
   "cell_type": "code",
   "execution_count": 352,
   "metadata": {},
   "outputs": [
    {
     "data": {
      "text/plain": [
       "0              NaN\n",
       "1              NaN\n",
       "2              NaN\n",
       "3              NaN\n",
       "4              NaN\n",
       "           ...    \n",
       "3616    179.823100\n",
       "3617    179.785800\n",
       "3618    179.765699\n",
       "3619    179.757700\n",
       "3620    179.730900\n",
       "Name: Close, Length: 3621, dtype: float64"
      ]
     },
     "execution_count": 352,
     "metadata": {},
     "output_type": "execute_result"
    }
   ],
   "source": [
    "ma100 = df.Close.rolling(100).mean()\n",
    "ma100"
   ]
  },
  {
   "cell_type": "code",
   "execution_count": 353,
   "metadata": {},
   "outputs": [
    {
     "data": {
      "text/plain": [
       "[<matplotlib.lines.Line2D at 0x18ec88f70>]"
      ]
     },
     "execution_count": 353,
     "metadata": {},
     "output_type": "execute_result"
    },
    {
     "data": {
      "image/png": "[encoded data removed]",
      "text/plain": [
       "<Figure size 1200x600 with 1 Axes>"
      ]
     },
     "metadata": {},
     "output_type": "display_data"
    }
   ],
   "source": [
    "plt.figure(figsize=(12,6))\n",
    "plt.plot(df.Close)\n",
    "plt.plot(ma100, 'r')"
   ]
  },
  {
   "cell_type": "code",
   "execution_count": 354,
   "metadata": {},
   "outputs": [
    {
     "data": {
      "text/plain": [
       "0             NaN\n",
       "1             NaN\n",
       "2             NaN\n",
       "3             NaN\n",
       "4             NaN\n",
       "          ...    \n",
       "3616    180.79060\n",
       "3617    180.77705\n",
       "3618    180.77640\n",
       "3619    180.82820\n",
       "3620    180.88845\n",
       "Name: Close, Length: 3621, dtype: float64"
      ]
     },
     "execution_count": 354,
     "metadata": {},
     "output_type": "execute_result"
    }
   ],
   "source": [
    "ma200 = df.Close.rolling(200).mean()\n",
    "ma200"
   ]
  },
  {
   "cell_type": "code",
   "execution_count": 355,
   "metadata": {},
   "outputs": [
    {
     "data": {
      "text/plain": [
       "[<matplotlib.lines.Line2D at 0x18ecd5760>]"
      ]
     },
     "execution_count": 355,
     "metadata": {},
     "output_type": "execute_result"
    },
    {
     "data": {
      "image/png": "[encoded data removed]",
      "text/plain": [
       "<Figure size 1200x600 with 1 Axes>"
      ]
     },
     "metadata": {},
     "output_type": "display_data"
    }
   ],
   "source": [
    "plt.figure(figsize=(12,6))\n",
    "plt.plot(df.Close)\n",
    "plt.plot(ma100, 'r')\n",
    "plt.plot(ma200, 'g')"
   ]
  },
  {
   "cell_type": "code",
   "execution_count": 356,
   "metadata": {},
   "outputs": [
    {
     "data": {
      "text/plain": [
       "(3621, 5)"
      ]
     },
     "execution_count": 356,
     "metadata": {},
     "output_type": "execute_result"
    }
   ],
   "source": [
    "df.shape"
   ]
  },
  {
   "cell_type": "code",
   "execution_count": 357,
   "metadata": {},
   "outputs": [],
   "source": [
    "from sklearn.preprocessing import MinMaxScaler\n",
    "scaler=MinMaxScaler(feature_range=(0,1))\n",
    "df1=scaler.fit_transform(np.array(df.Close).reshape(-1,1))"
   ]
  },
  {
   "cell_type": "code",
   "execution_count": 358,
   "metadata": {},
   "outputs": [
    {
     "name": "stdout",
     "output_type": "stream",
     "text": [
      "(2534, 1)\n",
      "(1087, 1)\n"
     ]
    }
   ],
   "source": [
    "# Splitting Data into Training and Testing\n",
    "\n",
    "data_training = pd.DataFrame(df['Close'][0:int(len(df)*0.70)])\n",
    "data_testing = pd.DataFrame(df['Close'][int(len(df)*0.70):int(len(df))])\n",
    "\n",
    "print(data_training.shape)\n",
    "print(data_testing.shape)"
   ]
  },
  {
   "cell_type": "code",
   "execution_count": 359,
   "metadata": {},
   "outputs": [
    {
     "data": {
      "text/html": [
       "<div>\n",
       "<style scoped>\n",
       "    .dataframe tbody tr th:only-of-type {\n",
       "        vertical-align: middle;\n",
       "    }\n",
       "\n",
       "    .dataframe tbody tr th {\n",
       "        vertical-align: top;\n",
       "    }\n",
       "\n",
       "    .dataframe thead th {\n",
       "        text-align: right;\n",
       "    }\n",
       "</style>\n",
       "<table border=\"1\" class=\"dataframe\">\n",
       "  <thead>\n",
       "    <tr style=\"text-align: right;\">\n",
       "      <th></th>\n",
       "      <th>Close</th>\n",
       "    </tr>\n",
       "  </thead>\n",
       "  <tbody>\n",
       "    <tr>\n",
       "      <th>0</th>\n",
       "      <td>7.643214</td>\n",
       "    </tr>\n",
       "    <tr>\n",
       "      <th>1</th>\n",
       "      <td>7.656429</td>\n",
       "    </tr>\n",
       "    <tr>\n",
       "      <th>2</th>\n",
       "      <td>7.534643</td>\n",
       "    </tr>\n",
       "    <tr>\n",
       "      <th>3</th>\n",
       "      <td>7.520714</td>\n",
       "    </tr>\n",
       "    <tr>\n",
       "      <th>4</th>\n",
       "      <td>7.570714</td>\n",
       "    </tr>\n",
       "  </tbody>\n",
       "</table>\n",
       "</div>"
      ],
      "text/plain": [
       "      Close\n",
       "0  7.643214\n",
       "1  7.656429\n",
       "2  7.534643\n",
       "3  7.520714\n",
       "4  7.570714"
      ]
     },
     "execution_count": 359,
     "metadata": {},
     "output_type": "execute_result"
    }
   ],
   "source": [
    "data_training.head()"
   ]
  },
  {
   "cell_type": "code",
   "execution_count": 360,
   "metadata": {},
   "outputs": [
    {
     "data": {
      "text/html": [
       "<div>\n",
       "<style scoped>\n",
       "    .dataframe tbody tr th:only-of-type {\n",
       "        vertical-align: middle;\n",
       "    }\n",
       "\n",
       "    .dataframe tbody tr th {\n",
       "        vertical-align: top;\n",
       "    }\n",
       "\n",
       "    .dataframe thead th {\n",
       "        text-align: right;\n",
       "    }\n",
       "</style>\n",
       "<table border=\"1\" class=\"dataframe\">\n",
       "  <thead>\n",
       "    <tr style=\"text-align: right;\">\n",
       "      <th></th>\n",
       "      <th>Close</th>\n",
       "    </tr>\n",
       "  </thead>\n",
       "  <tbody>\n",
       "    <tr>\n",
       "      <th>2534</th>\n",
       "      <td>81.084999</td>\n",
       "    </tr>\n",
       "    <tr>\n",
       "      <th>2535</th>\n",
       "      <td>80.967499</td>\n",
       "    </tr>\n",
       "    <tr>\n",
       "      <th>2536</th>\n",
       "      <td>77.377502</td>\n",
       "    </tr>\n",
       "    <tr>\n",
       "      <th>2537</th>\n",
       "      <td>77.165001</td>\n",
       "    </tr>\n",
       "    <tr>\n",
       "      <th>2538</th>\n",
       "      <td>79.712502</td>\n",
       "    </tr>\n",
       "  </tbody>\n",
       "</table>\n",
       "</div>"
      ],
      "text/plain": [
       "          Close\n",
       "2534  81.084999\n",
       "2535  80.967499\n",
       "2536  77.377502\n",
       "2537  77.165001\n",
       "2538  79.712502"
      ]
     },
     "execution_count": 360,
     "metadata": {},
     "output_type": "execute_result"
    }
   ],
   "source": [
    "data_testing.head()"
   ]
  },
  {
   "cell_type": "code",
   "execution_count": 361,
   "metadata": {},
   "outputs": [],
   "source": [
    "from sklearn.preprocessing import MinMaxScaler\n",
    "scaler = MinMaxScaler(feature_range=(0,1))"
   ]
  },
  {
   "cell_type": "code",
   "execution_count": 362,
   "metadata": {},
   "outputs": [
    {
     "data": {
      "text/plain": [
       "array([[0.0107512 ],\n",
       "       [0.01093235],\n",
       "       [0.00926288],\n",
       "       ...,\n",
       "       [0.99684705],\n",
       "       [0.96476971],\n",
       "       [0.99472228]])"
      ]
     },
     "execution_count": 362,
     "metadata": {},
     "output_type": "execute_result"
    }
   ],
   "source": [
    "data_training_array = scaler.fit_transform(data_training)\n",
    "data_training_array"
   ]
  },
  {
   "cell_type": "code",
   "execution_count": 363,
   "metadata": {},
   "outputs": [
    {
     "data": {
      "text/plain": [
       "(2534, 1)"
      ]
     },
     "execution_count": 363,
     "metadata": {},
     "output_type": "execute_result"
    }
   ],
   "source": [
    "data_training_array.shape"
   ]
  },
  {
   "cell_type": "code",
   "execution_count": 364,
   "metadata": {},
   "outputs": [],
   "source": [
    "x_train = []\n",
    "y_train = []\n",
    "\n",
    "for i in range(100, data_training_array.shape[0]):\n",
    "    x_train.append(data_training_array[i-100: i])\n",
    "    y_train.append(data_training_array[i, 0])\n",
    "\n",
    "x_train, y_train = np.array(x_train), np.array(y_train)"
   ]
  },
  {
   "cell_type": "code",
   "execution_count": 365,
   "metadata": {},
   "outputs": [
    {
     "data": {
      "text/plain": [
       "(2434, 100, 1)"
      ]
     },
     "execution_count": 365,
     "metadata": {},
     "output_type": "execute_result"
    }
   ],
   "source": [
    "x_train.shape"
   ]
  },
  {
   "cell_type": "code",
   "execution_count": 366,
   "metadata": {},
   "outputs": [],
   "source": [
    "# ML Model"
   ]
  },
  {
   "cell_type": "code",
   "execution_count": 367,
   "metadata": {},
   "outputs": [],
   "source": [
    "from keras.layers import Dense, Dropout, LSTM\n",
    "from keras.models import Sequential"
   ]
  },
  {
   "cell_type": "code",
   "execution_count": 368,
   "metadata": {},
   "outputs": [],
   "source": [
    "model = Sequential()\n",
    "model.add(LSTM(units = 50, activation = 'relu', return_sequences = True,\n",
    "              input_shape = (x_train.shape[1], 1)))\n",
    "model.add(Dropout(0.2))\n",
    "\n",
    "model.add(LSTM(units = 60, activation = 'relu', return_sequences = True))\n",
    "model.add(Dropout(0.3))\n",
    "\n",
    "\n",
    "model.add(LSTM(units = 80, activation = 'relu', return_sequences = True))\n",
    "model.add(Dropout(0.4))\n",
    "\n",
    "\n",
    "model.add(LSTM(units = 120, activation = 'relu'))\n",
    "model.add(Dropout(0.5))\n",
    "\n",
    "\n",
    "model.add(Dense(units = 1))"
   ]
  },
  {
   "cell_type": "code",
   "execution_count": 369,
   "metadata": {},
   "outputs": [
    {
     "name": "stdout",
     "output_type": "stream",
     "text": [
      "Model: \"sequential_23\"\n",
      "_________________________________________________________________\n",
      " Layer (type)                Output Shape              Param #   \n",
      "=================================================================\n",
      " lstm_36 (LSTM)              (None, 100, 50)           10400     \n",
      "                                                                 \n",
      " dropout_36 (Dropout)        (None, 100, 50)           0         \n",
      "                                                                 \n",
      " lstm_37 (LSTM)              (None, 100, 60)           26640     \n",
      "                                                                 \n",
      " dropout_37 (Dropout)        (None, 100, 60)           0         \n",
      "                                                                 \n",
      " lstm_38 (LSTM)              (None, 100, 80)           45120     \n",
      "                                                                 \n",
      " dropout_38 (Dropout)        (None, 100, 80)           0         \n",
      "                                                                 \n",
      " lstm_39 (LSTM)              (None, 120)               96480     \n",
      "                                                                 \n",
      " dropout_39 (Dropout)        (None, 120)               0         \n",
      "                                                                 \n",
      " dense_9 (Dense)             (None, 1)                 121       \n",
      "                                                                 \n",
      "=================================================================\n",
      "Total params: 178,761\n",
      "Trainable params: 178,761\n",
      "Non-trainable params: 0\n",
      "_________________________________________________________________\n"
     ]
    }
   ],
   "source": [
    "model.summary()"
   ]
  },
  {
   "cell_type": "code",
   "execution_count": 370,
   "metadata": {},
   "outputs": [
    {
     "name": "stdout",
     "output_type": "stream",
     "text": [
      "Epoch 1/50\n",
      "77/77 [==============================] - 10s 105ms/step - loss: 0.0170\n",
      "Epoch 2/50\n",
      "77/77 [==============================] - 8s 104ms/step - loss: 0.0047\n",
      "Epoch 3/50\n",
      "77/77 [==============================] - 8s 104ms/step - loss: 0.0041\n",
      "Epoch 4/50\n",
      "77/77 [==============================] - 8s 104ms/step - loss: 0.0037\n",
      "Epoch 5/50\n",
      "77/77 [==============================] - 8s 105ms/step - loss: 0.0032\n",
      "Epoch 6/50\n",
      "77/77 [==============================] - 8s 107ms/step - loss: 0.0030\n",
      "Epoch 7/50\n",
      "77/77 [==============================] - 8s 105ms/step - loss: 0.0032\n",
      "Epoch 8/50\n",
      "77/77 [==============================] - 8s 104ms/step - loss: 0.0030\n",
      "Epoch 9/50\n",
      "77/77 [==============================] - 8s 105ms/step - loss: 0.0030\n",
      "Epoch 10/50\n",
      "77/77 [==============================] - 8s 101ms/step - loss: 0.0026\n",
      "Epoch 11/50\n",
      "77/77 [==============================] - 8s 101ms/step - loss: 0.0026\n",
      "Epoch 12/50\n",
      "77/77 [==============================] - 8s 101ms/step - loss: 0.0021\n",
      "Epoch 13/50\n",
      "77/77 [==============================] - 8s 101ms/step - loss: 0.0024\n",
      "Epoch 14/50\n",
      "77/77 [==============================] - 8s 100ms/step - loss: 0.0020\n",
      "Epoch 15/50\n",
      "77/77 [==============================] - 8s 101ms/step - loss: 0.0021\n",
      "Epoch 16/50\n",
      "77/77 [==============================] - 8s 100ms/step - loss: 0.0017\n",
      "Epoch 17/50\n",
      "77/77 [==============================] - 8s 104ms/step - loss: 0.0017\n",
      "Epoch 18/50\n",
      "77/77 [==============================] - 8s 100ms/step - loss: 0.0016\n",
      "Epoch 19/50\n",
      "77/77 [==============================] - 8s 102ms/step - loss: 0.0018\n",
      "Epoch 20/50\n",
      "77/77 [==============================] - 8s 101ms/step - loss: 0.0020\n",
      "Epoch 21/50\n",
      "77/77 [==============================] - 8s 103ms/step - loss: 0.0016\n",
      "Epoch 22/50\n",
      "77/77 [==============================] - 8s 106ms/step - loss: 0.0017\n",
      "Epoch 23/50\n",
      "77/77 [==============================] - 8s 109ms/step - loss: 0.0014\n",
      "Epoch 24/50\n",
      "77/77 [==============================] - 9s 115ms/step - loss: 0.0016\n",
      "Epoch 25/50\n",
      "77/77 [==============================] - 9s 116ms/step - loss: 0.0016\n",
      "Epoch 26/50\n",
      "77/77 [==============================] - 9s 118ms/step - loss: 0.0016\n",
      "Epoch 27/50\n",
      "77/77 [==============================] - 9s 120ms/step - loss: 0.0016\n",
      "Epoch 28/50\n",
      "77/77 [==============================] - 9s 123ms/step - loss: 0.0015\n",
      "Epoch 29/50\n",
      "77/77 [==============================] - 10s 124ms/step - loss: 0.0015\n",
      "Epoch 30/50\n",
      "77/77 [==============================] - 10s 127ms/step - loss: 0.0015\n",
      "Epoch 31/50\n",
      "77/77 [==============================] - 10s 127ms/step - loss: 0.0015\n",
      "Epoch 32/50\n",
      "77/77 [==============================] - 10s 126ms/step - loss: 0.0014\n",
      "Epoch 33/50\n",
      "77/77 [==============================] - 10s 128ms/step - loss: 0.0014\n",
      "Epoch 34/50\n",
      "77/77 [==============================] - 10s 126ms/step - loss: 0.0013\n",
      "Epoch 35/50\n",
      "77/77 [==============================] - 10s 127ms/step - loss: 0.0015\n",
      "Epoch 36/50\n",
      "77/77 [==============================] - 10s 127ms/step - loss: 0.0014\n",
      "Epoch 37/50\n",
      "77/77 [==============================] - 12s 159ms/step - loss: 0.0013\n",
      "Epoch 38/50\n",
      "77/77 [==============================] - 13s 173ms/step - loss: 0.0014\n",
      "Epoch 39/50\n",
      "77/77 [==============================] - 11s 149ms/step - loss: 0.0013\n",
      "Epoch 40/50\n",
      "77/77 [==============================] - 11s 143ms/step - loss: 0.0013\n",
      "Epoch 41/50\n",
      "77/77 [==============================] - 11s 140ms/step - loss: 0.0014\n",
      "Epoch 42/50\n",
      "77/77 [==============================] - 11s 146ms/step - loss: 0.0015\n",
      "Epoch 43/50\n",
      "77/77 [==============================] - 12s 150ms/step - loss: 0.0014\n",
      "Epoch 44/50\n",
      "77/77 [==============================] - 11s 148ms/step - loss: 0.0014\n",
      "Epoch 45/50\n",
      "77/77 [==============================] - 11s 146ms/step - loss: 0.0013\n",
      "Epoch 46/50\n",
      "77/77 [==============================] - 11s 145ms/step - loss: 0.0014\n",
      "Epoch 47/50\n",
      "77/77 [==============================] - 11s 143ms/step - loss: 0.0014\n",
      "Epoch 48/50\n",
      "77/77 [==============================] - 11s 138ms/step - loss: 0.0015\n",
      "Epoch 49/50\n",
      "77/77 [==============================] - 10s 130ms/step - loss: 0.0013\n",
      "Epoch 50/50\n",
      "77/77 [==============================] - 10s 126ms/step - loss: 0.0013\n"
     ]
    },
    {
     "data": {
      "text/plain": [
       "<keras.callbacks.History at 0x18ee05a30>"
      ]
     },
     "execution_count": 370,
     "metadata": {},
     "output_type": "execute_result"
    }
   ],
   "source": [
    "model.compile(optimizer='adam', loss = 'mean_squared_error')\n",
    "model.fit(x_train, y_train, epochs = 50)"
   ]
  },
  {
   "cell_type": "code",
   "execution_count": 371,
   "metadata": {},
   "outputs": [],
   "source": [
    "model.save('keras_model.h5')"
   ]
  },
  {
   "cell_type": "code",
   "execution_count": 372,
   "metadata": {},
   "outputs": [
    {
     "data": {
      "text/html": [
       "<div>\n",
       "<style scoped>\n",
       "    .dataframe tbody tr th:only-of-type {\n",
       "        vertical-align: middle;\n",
       "    }\n",
       "\n",
       "    .dataframe tbody tr th {\n",
       "        vertical-align: top;\n",
       "    }\n",
       "\n",
       "    .dataframe thead th {\n",
       "        text-align: right;\n",
       "    }\n",
       "</style>\n",
       "<table border=\"1\" class=\"dataframe\">\n",
       "  <thead>\n",
       "    <tr style=\"text-align: right;\">\n",
       "      <th></th>\n",
       "      <th>Close</th>\n",
       "    </tr>\n",
       "  </thead>\n",
       "  <tbody>\n",
       "    <tr>\n",
       "      <th>2534</th>\n",
       "      <td>81.084999</td>\n",
       "    </tr>\n",
       "    <tr>\n",
       "      <th>2535</th>\n",
       "      <td>80.967499</td>\n",
       "    </tr>\n",
       "    <tr>\n",
       "      <th>2536</th>\n",
       "      <td>77.377502</td>\n",
       "    </tr>\n",
       "    <tr>\n",
       "      <th>2537</th>\n",
       "      <td>77.165001</td>\n",
       "    </tr>\n",
       "    <tr>\n",
       "      <th>2538</th>\n",
       "      <td>79.712502</td>\n",
       "    </tr>\n",
       "  </tbody>\n",
       "</table>\n",
       "</div>"
      ],
      "text/plain": [
       "          Close\n",
       "2534  81.084999\n",
       "2535  80.967499\n",
       "2536  77.377502\n",
       "2537  77.165001\n",
       "2538  79.712502"
      ]
     },
     "execution_count": 372,
     "metadata": {},
     "output_type": "execute_result"
    }
   ],
   "source": [
    "data_testing.head()"
   ]
  },
  {
   "cell_type": "code",
   "execution_count": 373,
   "metadata": {},
   "outputs": [
    {
     "data": {
      "text/html": [
       "<div>\n",
       "<style scoped>\n",
       "    .dataframe tbody tr th:only-of-type {\n",
       "        vertical-align: middle;\n",
       "    }\n",
       "\n",
       "    .dataframe tbody tr th {\n",
       "        vertical-align: top;\n",
       "    }\n",
       "\n",
       "    .dataframe thead th {\n",
       "        text-align: right;\n",
       "    }\n",
       "</style>\n",
       "<table border=\"1\" class=\"dataframe\">\n",
       "  <thead>\n",
       "    <tr style=\"text-align: right;\">\n",
       "      <th></th>\n",
       "      <th>Close</th>\n",
       "    </tr>\n",
       "  </thead>\n",
       "  <tbody>\n",
       "    <tr>\n",
       "      <th>2434</th>\n",
       "      <td>53.320000</td>\n",
       "    </tr>\n",
       "    <tr>\n",
       "      <th>2435</th>\n",
       "      <td>53.314999</td>\n",
       "    </tr>\n",
       "    <tr>\n",
       "      <th>2436</th>\n",
       "      <td>53.542500</td>\n",
       "    </tr>\n",
       "    <tr>\n",
       "      <th>2437</th>\n",
       "      <td>54.174999</td>\n",
       "    </tr>\n",
       "    <tr>\n",
       "      <th>2438</th>\n",
       "      <td>55.897499</td>\n",
       "    </tr>\n",
       "    <tr>\n",
       "      <th>...</th>\n",
       "      <td>...</td>\n",
       "    </tr>\n",
       "    <tr>\n",
       "      <th>2529</th>\n",
       "      <td>79.425003</td>\n",
       "    </tr>\n",
       "    <tr>\n",
       "      <th>2530</th>\n",
       "      <td>79.807503</td>\n",
       "    </tr>\n",
       "    <tr>\n",
       "      <th>2531</th>\n",
       "      <td>79.577499</td>\n",
       "    </tr>\n",
       "    <tr>\n",
       "      <th>2532</th>\n",
       "      <td>77.237503</td>\n",
       "    </tr>\n",
       "    <tr>\n",
       "      <th>2533</th>\n",
       "      <td>79.422501</td>\n",
       "    </tr>\n",
       "  </tbody>\n",
       "</table>\n",
       "<p>100 rows × 1 columns</p>\n",
       "</div>"
      ],
      "text/plain": [
       "          Close\n",
       "2434  53.320000\n",
       "2435  53.314999\n",
       "2436  53.542500\n",
       "2437  54.174999\n",
       "2438  55.897499\n",
       "...         ...\n",
       "2529  79.425003\n",
       "2530  79.807503\n",
       "2531  79.577499\n",
       "2532  77.237503\n",
       "2533  79.422501\n",
       "\n",
       "[100 rows x 1 columns]"
      ]
     },
     "execution_count": 373,
     "metadata": {},
     "output_type": "execute_result"
    }
   ],
   "source": [
    "data_training.tail(100)"
   ]
  },
  {
   "cell_type": "code",
   "execution_count": 374,
   "metadata": {},
   "outputs": [],
   "source": [
    "past_100_days = data_training.tail(100)"
   ]
  },
  {
   "cell_type": "code",
   "execution_count": 375,
   "metadata": {},
   "outputs": [],
   "source": [
    "final_df = pd.concat([past_100_days, data_testing], ignore_index=True)"
   ]
  },
  {
   "cell_type": "code",
   "execution_count": 376,
   "metadata": {},
   "outputs": [
    {
     "data": {
      "text/html": [
       "<div>\n",
       "<style scoped>\n",
       "    .dataframe tbody tr th:only-of-type {\n",
       "        vertical-align: middle;\n",
       "    }\n",
       "\n",
       "    .dataframe tbody tr th {\n",
       "        vertical-align: top;\n",
       "    }\n",
       "\n",
       "    .dataframe thead th {\n",
       "        text-align: right;\n",
       "    }\n",
       "</style>\n",
       "<table border=\"1\" class=\"dataframe\">\n",
       "  <thead>\n",
       "    <tr style=\"text-align: right;\">\n",
       "      <th></th>\n",
       "      <th>Close</th>\n",
       "    </tr>\n",
       "  </thead>\n",
       "  <tbody>\n",
       "    <tr>\n",
       "      <th>0</th>\n",
       "      <td>53.320000</td>\n",
       "    </tr>\n",
       "    <tr>\n",
       "      <th>1</th>\n",
       "      <td>53.314999</td>\n",
       "    </tr>\n",
       "    <tr>\n",
       "      <th>2</th>\n",
       "      <td>53.542500</td>\n",
       "    </tr>\n",
       "    <tr>\n",
       "      <th>3</th>\n",
       "      <td>54.174999</td>\n",
       "    </tr>\n",
       "    <tr>\n",
       "      <th>4</th>\n",
       "      <td>55.897499</td>\n",
       "    </tr>\n",
       "  </tbody>\n",
       "</table>\n",
       "</div>"
      ],
      "text/plain": [
       "       Close\n",
       "0  53.320000\n",
       "1  53.314999\n",
       "2  53.542500\n",
       "3  54.174999\n",
       "4  55.897499"
      ]
     },
     "execution_count": 376,
     "metadata": {},
     "output_type": "execute_result"
    }
   ],
   "source": [
    "final_df.head()"
   ]
  },
  {
   "cell_type": "code",
   "execution_count": 377,
   "metadata": {},
   "outputs": [
    {
     "data": {
      "text/plain": [
       "array([[3.45389554e-05],\n",
       "       [0.00000000e+00],\n",
       "       [1.57119315e-03],\n",
       "       ...,\n",
       "       [9.51172297e-01],\n",
       "       [9.60219659e-01],\n",
       "       [9.50205417e-01]])"
      ]
     },
     "execution_count": 377,
     "metadata": {},
     "output_type": "execute_result"
    }
   ],
   "source": [
    "input_data = scaler.fit_transform(final_df)\n",
    "input_data"
   ]
  },
  {
   "cell_type": "code",
   "execution_count": 378,
   "metadata": {},
   "outputs": [
    {
     "data": {
      "text/plain": [
       "(1187, 1)"
      ]
     },
     "execution_count": 378,
     "metadata": {},
     "output_type": "execute_result"
    }
   ],
   "source": [
    "input_data.shape"
   ]
  },
  {
   "cell_type": "code",
   "execution_count": 379,
   "metadata": {},
   "outputs": [],
   "source": [
    "x_test = []\n",
    "y_test = []\n",
    "\n",
    "for i in range(100, input_data.shape[0]):\n",
    "    x_test.append(input_data[i-100: i])\n",
    "    y_test.append(input_data[i, 0])"
   ]
  },
  {
   "cell_type": "code",
   "execution_count": 380,
   "metadata": {},
   "outputs": [
    {
     "name": "stdout",
     "output_type": "stream",
     "text": [
      "(1087, 100, 1)\n",
      "(1087,)\n"
     ]
    }
   ],
   "source": [
    "x_test, y_test = np.array(x_test), np.array(y_test)\n",
    "print(x_test.shape)\n",
    "print(y_test.shape)"
   ]
  },
  {
   "cell_type": "code",
   "execution_count": 381,
   "metadata": {},
   "outputs": [
    {
     "name": "stdout",
     "output_type": "stream",
     "text": [
      "34/34 [==============================] - 2s 40ms/step\n"
     ]
    }
   ],
   "source": [
    "# Making predictions\n",
    "\n",
    "y_predicted = model.predict(x_test)"
   ]
  },
  {
   "cell_type": "code",
   "execution_count": 382,
   "metadata": {},
   "outputs": [
    {
     "data": {
      "text/plain": [
       "(1087, 1)"
      ]
     },
     "execution_count": 382,
     "metadata": {},
     "output_type": "execute_result"
    }
   ],
   "source": [
    "y_predicted.shape"
   ]
  },
  {
   "cell_type": "code",
   "execution_count": 383,
   "metadata": {},
   "outputs": [
    {
     "data": {
      "text/plain": [
       "array([0.19178839, 0.1909769 , 0.16618325, ..., 0.9511723 , 0.96021966,\n",
       "       0.95020542])"
      ]
     },
     "execution_count": 383,
     "metadata": {},
     "output_type": "execute_result"
    }
   ],
   "source": [
    "y_test"
   ]
  },
  {
   "cell_type": "code",
   "execution_count": 384,
   "metadata": {},
   "outputs": [
    {
     "data": {
      "text/plain": [
       "array([[0.22615072],\n",
       "       [0.22712065],\n",
       "       [0.22783189],\n",
       "       ...,\n",
       "       [0.8396559 ],\n",
       "       [0.84545064],\n",
       "       [0.85051847]], dtype=float32)"
      ]
     },
     "execution_count": 384,
     "metadata": {},
     "output_type": "execute_result"
    }
   ],
   "source": [
    "y_predicted"
   ]
  },
  {
   "cell_type": "code",
   "execution_count": 385,
   "metadata": {},
   "outputs": [
    {
     "data": {
      "text/plain": [
       "array([0.00690632])"
      ]
     },
     "execution_count": 385,
     "metadata": {},
     "output_type": "execute_result"
    }
   ],
   "source": [
    "scaler.scale_"
   ]
  },
  {
   "cell_type": "code",
   "execution_count": 386,
   "metadata": {},
   "outputs": [],
   "source": [
    "scale_factor = 1/0.00690691\n",
    "y_predicted = y_predicted * scale_factor\n",
    "y_test = y_test * scale_factor"
   ]
  },
  {
   "cell_type": "code",
   "execution_count": 387,
   "metadata": {},
   "outputs": [
    {
     "data": {
      "image/png": "[encoded data removed]",
      "text/plain": [
       "<Figure size 1200x600 with 1 Axes>"
      ]
     },
     "metadata": {},
     "output_type": "display_data"
    }
   ],
   "source": [
    "plt.figure(figsize=(12,6))\n",
    "plt.plot(y_test, 'b', label = 'Original Price')\n",
    "plt.plot(y_predicted, 'r', label = 'Predicted Price')\n",
    "plt.xlabel('Time')\n",
    "plt.ylabel('Price')\n",
    "plt.legend()\n",
    "plt.show()"
   ]
  },
  {
   "cell_type": "code",
   "execution_count": 388,
   "metadata": {},
   "outputs": [
    {
     "data": {
      "text/plain": [
       "1187"
      ]
     },
     "execution_count": 388,
     "metadata": {},
     "output_type": "execute_result"
    }
   ],
   "source": [
    "len(input_data)"
   ]
  },
  {
   "cell_type": "code",
   "execution_count": 2,
   "metadata": {},
   "outputs": [
    {
     "ename": "NameError",
     "evalue": "name 'input_data' is not defined",
     "output_type": "error",
     "traceback": [
      "\u001b[0;31m---------------------------------------------------------------------------\u001b[0m",
      "\u001b[0;31mNameError\u001b[0m                                 Traceback (most recent call last)",
      "Cell \u001b[0;32mIn[2], line 1\u001b[0m\n\u001b[0;32m----> 1\u001b[0m x_input \u001b[39m=\u001b[39m input_data[\u001b[39m1087\u001b[39m:]\u001b[39m.\u001b[39mreshape(\u001b[39m1\u001b[39m,\u001b[39m-\u001b[39m\u001b[39m1\u001b[39m)\n",
      "\u001b[0;31mNameError\u001b[0m: name 'input_data' is not defined"
     ]
    }
   ],
   "source": [
    "x_input = input_data[(len(input_data) - 100):].reshape(1,-1)"
   ]
  },
  {
   "cell_type": "code",
   "execution_count": 390,
   "metadata": {},
   "outputs": [
    {
     "data": {
      "text/plain": [
       "(1, 100)"
      ]
     },
     "execution_count": 390,
     "metadata": {},
     "output_type": "execute_result"
    }
   ],
   "source": [
    "x_input.shape"
   ]
  },
  {
   "cell_type": "code",
   "execution_count": 391,
   "metadata": {},
   "outputs": [],
   "source": [
    "temp_input=list(x_input)\n",
    "temp_input=temp_input[0].tolist()"
   ]
  },
  {
   "cell_type": "code",
   "execution_count": 392,
   "metadata": {},
   "outputs": [
    {
     "data": {
      "text/plain": [
       "[0.9614627455740147,\n",
       " 0.9138782344012685,\n",
       " 0.9042784597501693,\n",
       " 0.8881177062308249,\n",
       " 0.8830760198719919,\n",
       " 0.9133257164969301,\n",
       " 0.9104250765356644,\n",
       " 0.9176767291298363,\n",
       " 0.9135328975383051,\n",
       " 0.9158119943754458,\n",
       " 0.8999965777190647,\n",
       " 0.8934354934688048,\n",
       " 0.9345281563751074,\n",
       " 0.9547636108841812,\n",
       " 0.9708553391837388,\n",
       " 0.9797644401089113,\n",
       " 0.9750681959950566,\n",
       " 0.9727890991579161,\n",
       " 0.9607030466283012,\n",
       " 0.9559376719126448,\n",
       " 0.930453350003363,\n",
       " 0.9053143649570446,\n",
       " 0.9223039480239043,\n",
       " 0.9153286070729089,\n",
       " 0.9279670721248473,\n",
       " 0.9391553752691754,\n",
       " 0.9399150742148888,\n",
       " 0.9323872153595553,\n",
       " 0.9360475542665344,\n",
       " 0.9243067332178682,\n",
       " 0.9097344028097375,\n",
       " 0.9035877860242424,\n",
       " 0.9015850008302785,\n",
       " 0.8908801903705025,\n",
       " 0.8857004535720959,\n",
       " 0.890949320972304,\n",
       " 0.9051071839156696,\n",
       " 0.8923305630421426,\n",
       " 0.8829379694324185,\n",
       " 0.8930902619878563,\n",
       " 0.8847335735850074,\n",
       " 0.8801063546909395,\n",
       " 0.8725784958356059,\n",
       " 0.8410857129624173,\n",
       " 0.8066921847459482,\n",
       " 0.7997858690147396,\n",
       " 0.7989571448492393,\n",
       " 0.810905041557266,\n",
       " 0.8248558288412714,\n",
       " 0.8281708308852872,\n",
       " 0.8136676310789582,\n",
       " 0.8265824077740734,\n",
       " 0.8239579740739694,\n",
       " 0.8315549635311047,\n",
       " 0.8478538728720374,\n",
       " 0.8657412053241839,\n",
       " 0.8153250794099588,\n",
       " 0.8216098520170422,\n",
       " 0.8117338711047811,\n",
       " 0.803860675386484,\n",
       " 0.8287233487896256,\n",
       " 0.8160847783556723,\n",
       " 0.806070641621823,\n",
       " 0.7978521090405625,\n",
       " 0.803446207921719,\n",
       " 0.7977140586009889,\n",
       " 0.802962820619182,\n",
       " 0.7951586501206717,\n",
       " 0.8035843637433072,\n",
       " 0.7905314312266037,\n",
       " 0.8406712454976523,\n",
       " 0.8510998496962666,\n",
       " 0.8244414667585213,\n",
       " 0.8015815785493433,\n",
       " 0.7920508291180307,\n",
       " 0.785420719647984,\n",
       " 0.7713318819244052,\n",
       " 0.7771331618469369,\n",
       " 0.7844538396608954,\n",
       " 0.7990953006708278,\n",
       " 0.8051037616347344,\n",
       " 0.8010290606450049,\n",
       " 0.8300355656396777,\n",
       " 0.8081425574175886,\n",
       " 0.8010290606450049,\n",
       " 0.8267895888154485,\n",
       " 0.8982699987862627,\n",
       " 0.8867364641609862,\n",
       " 0.8915017334946275,\n",
       " 0.8938499609335698,\n",
       " 0.9064885313675232,\n",
       " 0.895990901949122,\n",
       " 0.9182982722539613,\n",
       " 0.9262404931920453,\n",
       " 0.942056015230441,\n",
       " 0.9428847393959413,\n",
       " 0.9430919204373164,\n",
       " 0.9511722971969886,\n",
       " 0.9602196593257643,\n",
       " 0.9502054172099]"
      ]
     },
     "execution_count": 392,
     "metadata": {},
     "output_type": "execute_result"
    }
   ],
   "source": [
    "temp_input"
   ]
  },
  {
   "cell_type": "code",
   "execution_count": 393,
   "metadata": {},
   "outputs": [
    {
     "name": "stdout",
     "output_type": "stream",
     "text": [
      "[0.85467327]\n",
      "101\n",
      "1 day input [0.91387823 0.90427846 0.88811771 0.88307602 0.91332572 0.91042508\n",
      " 0.91767673 0.9135329  0.91581199 0.89999658 0.89343549 0.93452816\n",
      " 0.95476361 0.97085534 0.97976444 0.9750682  0.9727891  0.96070305\n",
      " 0.95593767 0.93045335 0.90531436 0.92230395 0.91532861 0.92796707\n",
      " 0.93915538 0.93991507 0.93238722 0.93604755 0.92430673 0.9097344\n",
      " 0.90358779 0.901585   0.89088019 0.88570045 0.89094932 0.90510718\n",
      " 0.89233056 0.88293797 0.89309026 0.88473357 0.88010635 0.8725785\n",
      " 0.84108571 0.80669218 0.79978587 0.79895714 0.81090504 0.82485583\n",
      " 0.82817083 0.81366763 0.82658241 0.82395797 0.83155496 0.84785387\n",
      " 0.86574121 0.81532508 0.82160985 0.81173387 0.80386068 0.82872335\n",
      " 0.81608478 0.80607064 0.79785211 0.80344621 0.79771406 0.80296282\n",
      " 0.79515865 0.80358436 0.79053143 0.84067125 0.85109985 0.82444147\n",
      " 0.80158158 0.79205083 0.78542072 0.77133188 0.77713316 0.78445384\n",
      " 0.7990953  0.80510376 0.80102906 0.83003557 0.80814256 0.80102906\n",
      " 0.82678959 0.89827    0.88673646 0.89150173 0.89384996 0.90648853\n",
      " 0.8959909  0.91829827 0.92624049 0.94205602 0.94288474 0.94309192\n",
      " 0.9511723  0.96021966 0.95020542 0.85467327]\n",
      "1 day output [[0.8554168]]\n",
      "2 day input [0.90427846 0.88811771 0.88307602 0.91332572 0.91042508 0.91767673\n",
      " 0.9135329  0.91581199 0.89999658 0.89343549 0.93452816 0.95476361\n",
      " 0.97085534 0.97976444 0.9750682  0.9727891  0.96070305 0.95593767\n",
      " 0.93045335 0.90531436 0.92230395 0.91532861 0.92796707 0.93915538\n",
      " 0.93991507 0.93238722 0.93604755 0.92430673 0.9097344  0.90358779\n",
      " 0.901585   0.89088019 0.88570045 0.89094932 0.90510718 0.89233056\n",
      " 0.88293797 0.89309026 0.88473357 0.88010635 0.8725785  0.84108571\n",
      " 0.80669218 0.79978587 0.79895714 0.81090504 0.82485583 0.82817083\n",
      " 0.81366763 0.82658241 0.82395797 0.83155496 0.84785387 0.86574121\n",
      " 0.81532508 0.82160985 0.81173387 0.80386068 0.82872335 0.81608478\n",
      " 0.80607064 0.79785211 0.80344621 0.79771406 0.80296282 0.79515865\n",
      " 0.80358436 0.79053143 0.84067125 0.85109985 0.82444147 0.80158158\n",
      " 0.79205083 0.78542072 0.77133188 0.77713316 0.78445384 0.7990953\n",
      " 0.80510376 0.80102906 0.83003557 0.80814256 0.80102906 0.82678959\n",
      " 0.89827    0.88673646 0.89150173 0.89384996 0.90648853 0.8959909\n",
      " 0.91829827 0.92624049 0.94205602 0.94288474 0.94309192 0.9511723\n",
      " 0.96021966 0.95020542 0.85467327 0.85541677]\n",
      "2 day output [[0.8514904]]\n",
      "3 day input [0.88811771 0.88307602 0.91332572 0.91042508 0.91767673 0.9135329\n",
      " 0.91581199 0.89999658 0.89343549 0.93452816 0.95476361 0.97085534\n",
      " 0.97976444 0.9750682  0.9727891  0.96070305 0.95593767 0.93045335\n",
      " 0.90531436 0.92230395 0.91532861 0.92796707 0.93915538 0.93991507\n",
      " 0.93238722 0.93604755 0.92430673 0.9097344  0.90358779 0.901585\n",
      " 0.89088019 0.88570045 0.89094932 0.90510718 0.89233056 0.88293797\n",
      " 0.89309026 0.88473357 0.88010635 0.8725785  0.84108571 0.80669218\n",
      " 0.79978587 0.79895714 0.81090504 0.82485583 0.82817083 0.81366763\n",
      " 0.82658241 0.82395797 0.83155496 0.84785387 0.86574121 0.81532508\n",
      " 0.82160985 0.81173387 0.80386068 0.82872335 0.81608478 0.80607064\n",
      " 0.79785211 0.80344621 0.79771406 0.80296282 0.79515865 0.80358436\n",
      " 0.79053143 0.84067125 0.85109985 0.82444147 0.80158158 0.79205083\n",
      " 0.78542072 0.77133188 0.77713316 0.78445384 0.7990953  0.80510376\n",
      " 0.80102906 0.83003557 0.80814256 0.80102906 0.82678959 0.89827\n",
      " 0.88673646 0.89150173 0.89384996 0.90648853 0.8959909  0.91829827\n",
      " 0.92624049 0.94205602 0.94288474 0.94309192 0.9511723  0.96021966\n",
      " 0.95020542 0.85467327 0.85541677 0.85149038]\n",
      "3 day output [[0.8430161]]\n",
      "4 day input [0.88307602 0.91332572 0.91042508 0.91767673 0.9135329  0.91581199\n",
      " 0.89999658 0.89343549 0.93452816 0.95476361 0.97085534 0.97976444\n",
      " 0.9750682  0.9727891  0.96070305 0.95593767 0.93045335 0.90531436\n",
      " 0.92230395 0.91532861 0.92796707 0.93915538 0.93991507 0.93238722\n",
      " 0.93604755 0.92430673 0.9097344  0.90358779 0.901585   0.89088019\n",
      " 0.88570045 0.89094932 0.90510718 0.89233056 0.88293797 0.89309026\n",
      " 0.88473357 0.88010635 0.8725785  0.84108571 0.80669218 0.79978587\n",
      " 0.79895714 0.81090504 0.82485583 0.82817083 0.81366763 0.82658241\n",
      " 0.82395797 0.83155496 0.84785387 0.86574121 0.81532508 0.82160985\n",
      " 0.81173387 0.80386068 0.82872335 0.81608478 0.80607064 0.79785211\n",
      " 0.80344621 0.79771406 0.80296282 0.79515865 0.80358436 0.79053143\n",
      " 0.84067125 0.85109985 0.82444147 0.80158158 0.79205083 0.78542072\n",
      " 0.77133188 0.77713316 0.78445384 0.7990953  0.80510376 0.80102906\n",
      " 0.83003557 0.80814256 0.80102906 0.82678959 0.89827    0.88673646\n",
      " 0.89150173 0.89384996 0.90648853 0.8959909  0.91829827 0.92624049\n",
      " 0.94205602 0.94288474 0.94309192 0.9511723  0.96021966 0.95020542\n",
      " 0.85467327 0.85541677 0.85149038 0.84301609]\n",
      "4 day output [[0.83090997]]\n",
      "5 day input [0.91332572 0.91042508 0.91767673 0.9135329  0.91581199 0.89999658\n",
      " 0.89343549 0.93452816 0.95476361 0.97085534 0.97976444 0.9750682\n",
      " 0.9727891  0.96070305 0.95593767 0.93045335 0.90531436 0.92230395\n",
      " 0.91532861 0.92796707 0.93915538 0.93991507 0.93238722 0.93604755\n",
      " 0.92430673 0.9097344  0.90358779 0.901585   0.89088019 0.88570045\n",
      " 0.89094932 0.90510718 0.89233056 0.88293797 0.89309026 0.88473357\n",
      " 0.88010635 0.8725785  0.84108571 0.80669218 0.79978587 0.79895714\n",
      " 0.81090504 0.82485583 0.82817083 0.81366763 0.82658241 0.82395797\n",
      " 0.83155496 0.84785387 0.86574121 0.81532508 0.82160985 0.81173387\n",
      " 0.80386068 0.82872335 0.81608478 0.80607064 0.79785211 0.80344621\n",
      " 0.79771406 0.80296282 0.79515865 0.80358436 0.79053143 0.84067125\n",
      " 0.85109985 0.82444147 0.80158158 0.79205083 0.78542072 0.77133188\n",
      " 0.77713316 0.78445384 0.7990953  0.80510376 0.80102906 0.83003557\n",
      " 0.80814256 0.80102906 0.82678959 0.89827    0.88673646 0.89150173\n",
      " 0.89384996 0.90648853 0.8959909  0.91829827 0.92624049 0.94205602\n",
      " 0.94288474 0.94309192 0.9511723  0.96021966 0.95020542 0.85467327\n",
      " 0.85541677 0.85149038 0.84301609 0.83090997]\n",
      "5 day output [[0.8163927]]\n",
      "6 day input [0.91042508 0.91767673 0.9135329  0.91581199 0.89999658 0.89343549\n",
      " 0.93452816 0.95476361 0.97085534 0.97976444 0.9750682  0.9727891\n",
      " 0.96070305 0.95593767 0.93045335 0.90531436 0.92230395 0.91532861\n",
      " 0.92796707 0.93915538 0.93991507 0.93238722 0.93604755 0.92430673\n",
      " 0.9097344  0.90358779 0.901585   0.89088019 0.88570045 0.89094932\n",
      " 0.90510718 0.89233056 0.88293797 0.89309026 0.88473357 0.88010635\n",
      " 0.8725785  0.84108571 0.80669218 0.79978587 0.79895714 0.81090504\n",
      " 0.82485583 0.82817083 0.81366763 0.82658241 0.82395797 0.83155496\n",
      " 0.84785387 0.86574121 0.81532508 0.82160985 0.81173387 0.80386068\n",
      " 0.82872335 0.81608478 0.80607064 0.79785211 0.80344621 0.79771406\n",
      " 0.80296282 0.79515865 0.80358436 0.79053143 0.84067125 0.85109985\n",
      " 0.82444147 0.80158158 0.79205083 0.78542072 0.77133188 0.77713316\n",
      " 0.78445384 0.7990953  0.80510376 0.80102906 0.83003557 0.80814256\n",
      " 0.80102906 0.82678959 0.89827    0.88673646 0.89150173 0.89384996\n",
      " 0.90648853 0.8959909  0.91829827 0.92624049 0.94205602 0.94288474\n",
      " 0.94309192 0.9511723  0.96021966 0.95020542 0.85467327 0.85541677\n",
      " 0.85149038 0.84301609 0.83090997 0.81639272]\n",
      "6 day output [[0.80062586]]\n",
      "7 day input [0.91767673 0.9135329  0.91581199 0.89999658 0.89343549 0.93452816\n",
      " 0.95476361 0.97085534 0.97976444 0.9750682  0.9727891  0.96070305\n",
      " 0.95593767 0.93045335 0.90531436 0.92230395 0.91532861 0.92796707\n",
      " 0.93915538 0.93991507 0.93238722 0.93604755 0.92430673 0.9097344\n",
      " 0.90358779 0.901585   0.89088019 0.88570045 0.89094932 0.90510718\n",
      " 0.89233056 0.88293797 0.89309026 0.88473357 0.88010635 0.8725785\n",
      " 0.84108571 0.80669218 0.79978587 0.79895714 0.81090504 0.82485583\n",
      " 0.82817083 0.81366763 0.82658241 0.82395797 0.83155496 0.84785387\n",
      " 0.86574121 0.81532508 0.82160985 0.81173387 0.80386068 0.82872335\n",
      " 0.81608478 0.80607064 0.79785211 0.80344621 0.79771406 0.80296282\n",
      " 0.79515865 0.80358436 0.79053143 0.84067125 0.85109985 0.82444147\n",
      " 0.80158158 0.79205083 0.78542072 0.77133188 0.77713316 0.78445384\n",
      " 0.7990953  0.80510376 0.80102906 0.83003557 0.80814256 0.80102906\n",
      " 0.82678959 0.89827    0.88673646 0.89150173 0.89384996 0.90648853\n",
      " 0.8959909  0.91829827 0.92624049 0.94205602 0.94288474 0.94309192\n",
      " 0.9511723  0.96021966 0.95020542 0.85467327 0.85541677 0.85149038\n",
      " 0.84301609 0.83090997 0.81639272 0.80062586]\n",
      "7 day output [[0.7845365]]\n",
      "8 day input [0.9135329  0.91581199 0.89999658 0.89343549 0.93452816 0.95476361\n",
      " 0.97085534 0.97976444 0.9750682  0.9727891  0.96070305 0.95593767\n",
      " 0.93045335 0.90531436 0.92230395 0.91532861 0.92796707 0.93915538\n",
      " 0.93991507 0.93238722 0.93604755 0.92430673 0.9097344  0.90358779\n",
      " 0.901585   0.89088019 0.88570045 0.89094932 0.90510718 0.89233056\n",
      " 0.88293797 0.89309026 0.88473357 0.88010635 0.8725785  0.84108571\n",
      " 0.80669218 0.79978587 0.79895714 0.81090504 0.82485583 0.82817083\n",
      " 0.81366763 0.82658241 0.82395797 0.83155496 0.84785387 0.86574121\n",
      " 0.81532508 0.82160985 0.81173387 0.80386068 0.82872335 0.81608478\n",
      " 0.80607064 0.79785211 0.80344621 0.79771406 0.80296282 0.79515865\n",
      " 0.80358436 0.79053143 0.84067125 0.85109985 0.82444147 0.80158158\n",
      " 0.79205083 0.78542072 0.77133188 0.77713316 0.78445384 0.7990953\n",
      " 0.80510376 0.80102906 0.83003557 0.80814256 0.80102906 0.82678959\n",
      " 0.89827    0.88673646 0.89150173 0.89384996 0.90648853 0.8959909\n",
      " 0.91829827 0.92624049 0.94205602 0.94288474 0.94309192 0.9511723\n",
      " 0.96021966 0.95020542 0.85467327 0.85541677 0.85149038 0.84301609\n",
      " 0.83090997 0.81639272 0.80062586 0.78453648]\n",
      "8 day output [[0.7687842]]\n",
      "9 day input [0.91581199 0.89999658 0.89343549 0.93452816 0.95476361 0.97085534\n",
      " 0.97976444 0.9750682  0.9727891  0.96070305 0.95593767 0.93045335\n",
      " 0.90531436 0.92230395 0.91532861 0.92796707 0.93915538 0.93991507\n",
      " 0.93238722 0.93604755 0.92430673 0.9097344  0.90358779 0.901585\n",
      " 0.89088019 0.88570045 0.89094932 0.90510718 0.89233056 0.88293797\n",
      " 0.89309026 0.88473357 0.88010635 0.8725785  0.84108571 0.80669218\n",
      " 0.79978587 0.79895714 0.81090504 0.82485583 0.82817083 0.81366763\n",
      " 0.82658241 0.82395797 0.83155496 0.84785387 0.86574121 0.81532508\n",
      " 0.82160985 0.81173387 0.80386068 0.82872335 0.81608478 0.80607064\n",
      " 0.79785211 0.80344621 0.79771406 0.80296282 0.79515865 0.80358436\n",
      " 0.79053143 0.84067125 0.85109985 0.82444147 0.80158158 0.79205083\n",
      " 0.78542072 0.77133188 0.77713316 0.78445384 0.7990953  0.80510376\n",
      " 0.80102906 0.83003557 0.80814256 0.80102906 0.82678959 0.89827\n",
      " 0.88673646 0.89150173 0.89384996 0.90648853 0.8959909  0.91829827\n",
      " 0.92624049 0.94205602 0.94288474 0.94309192 0.9511723  0.96021966\n",
      " 0.95020542 0.85467327 0.85541677 0.85149038 0.84301609 0.83090997\n",
      " 0.81639272 0.80062586 0.78453648 0.76878422]\n",
      "9 day output [[0.75374365]]\n",
      "10 day input [0.89999658 0.89343549 0.93452816 0.95476361 0.97085534 0.97976444\n",
      " 0.9750682  0.9727891  0.96070305 0.95593767 0.93045335 0.90531436\n",
      " 0.92230395 0.91532861 0.92796707 0.93915538 0.93991507 0.93238722\n",
      " 0.93604755 0.92430673 0.9097344  0.90358779 0.901585   0.89088019\n",
      " 0.88570045 0.89094932 0.90510718 0.89233056 0.88293797 0.89309026\n",
      " 0.88473357 0.88010635 0.8725785  0.84108571 0.80669218 0.79978587\n",
      " 0.79895714 0.81090504 0.82485583 0.82817083 0.81366763 0.82658241\n",
      " 0.82395797 0.83155496 0.84785387 0.86574121 0.81532508 0.82160985\n",
      " 0.81173387 0.80386068 0.82872335 0.81608478 0.80607064 0.79785211\n",
      " 0.80344621 0.79771406 0.80296282 0.79515865 0.80358436 0.79053143\n",
      " 0.84067125 0.85109985 0.82444147 0.80158158 0.79205083 0.78542072\n",
      " 0.77133188 0.77713316 0.78445384 0.7990953  0.80510376 0.80102906\n",
      " 0.83003557 0.80814256 0.80102906 0.82678959 0.89827    0.88673646\n",
      " 0.89150173 0.89384996 0.90648853 0.8959909  0.91829827 0.92624049\n",
      " 0.94205602 0.94288474 0.94309192 0.9511723  0.96021966 0.95020542\n",
      " 0.85467327 0.85541677 0.85149038 0.84301609 0.83090997 0.81639272\n",
      " 0.80062586 0.78453648 0.76878422 0.75374365]\n",
      "10 day output [[0.7395632]]\n",
      "11 day input [0.89343549 0.93452816 0.95476361 0.97085534 0.97976444 0.9750682\n",
      " 0.9727891  0.96070305 0.95593767 0.93045335 0.90531436 0.92230395\n",
      " 0.91532861 0.92796707 0.93915538 0.93991507 0.93238722 0.93604755\n",
      " 0.92430673 0.9097344  0.90358779 0.901585   0.89088019 0.88570045\n",
      " 0.89094932 0.90510718 0.89233056 0.88293797 0.89309026 0.88473357\n",
      " 0.88010635 0.8725785  0.84108571 0.80669218 0.79978587 0.79895714\n",
      " 0.81090504 0.82485583 0.82817083 0.81366763 0.82658241 0.82395797\n",
      " 0.83155496 0.84785387 0.86574121 0.81532508 0.82160985 0.81173387\n",
      " 0.80386068 0.82872335 0.81608478 0.80607064 0.79785211 0.80344621\n",
      " 0.79771406 0.80296282 0.79515865 0.80358436 0.79053143 0.84067125\n",
      " 0.85109985 0.82444147 0.80158158 0.79205083 0.78542072 0.77133188\n",
      " 0.77713316 0.78445384 0.7990953  0.80510376 0.80102906 0.83003557\n",
      " 0.80814256 0.80102906 0.82678959 0.89827    0.88673646 0.89150173\n",
      " 0.89384996 0.90648853 0.8959909  0.91829827 0.92624049 0.94205602\n",
      " 0.94288474 0.94309192 0.9511723  0.96021966 0.95020542 0.85467327\n",
      " 0.85541677 0.85149038 0.84301609 0.83090997 0.81639272 0.80062586\n",
      " 0.78453648 0.76878422 0.75374365 0.73956323]\n"
     ]
    },
    {
     "name": "stdout",
     "output_type": "stream",
     "text": [
      "11 day output [[0.7262437]]\n",
      "12 day input [0.93452816 0.95476361 0.97085534 0.97976444 0.9750682  0.9727891\n",
      " 0.96070305 0.95593767 0.93045335 0.90531436 0.92230395 0.91532861\n",
      " 0.92796707 0.93915538 0.93991507 0.93238722 0.93604755 0.92430673\n",
      " 0.9097344  0.90358779 0.901585   0.89088019 0.88570045 0.89094932\n",
      " 0.90510718 0.89233056 0.88293797 0.89309026 0.88473357 0.88010635\n",
      " 0.8725785  0.84108571 0.80669218 0.79978587 0.79895714 0.81090504\n",
      " 0.82485583 0.82817083 0.81366763 0.82658241 0.82395797 0.83155496\n",
      " 0.84785387 0.86574121 0.81532508 0.82160985 0.81173387 0.80386068\n",
      " 0.82872335 0.81608478 0.80607064 0.79785211 0.80344621 0.79771406\n",
      " 0.80296282 0.79515865 0.80358436 0.79053143 0.84067125 0.85109985\n",
      " 0.82444147 0.80158158 0.79205083 0.78542072 0.77133188 0.77713316\n",
      " 0.78445384 0.7990953  0.80510376 0.80102906 0.83003557 0.80814256\n",
      " 0.80102906 0.82678959 0.89827    0.88673646 0.89150173 0.89384996\n",
      " 0.90648853 0.8959909  0.91829827 0.92624049 0.94205602 0.94288474\n",
      " 0.94309192 0.9511723  0.96021966 0.95020542 0.85467327 0.85541677\n",
      " 0.85149038 0.84301609 0.83090997 0.81639272 0.80062586 0.78453648\n",
      " 0.76878422 0.75374365 0.73956323 0.72624367]\n",
      "12 day output [[0.71370745]]\n",
      "13 day input [0.95476361 0.97085534 0.97976444 0.9750682  0.9727891  0.96070305\n",
      " 0.95593767 0.93045335 0.90531436 0.92230395 0.91532861 0.92796707\n",
      " 0.93915538 0.93991507 0.93238722 0.93604755 0.92430673 0.9097344\n",
      " 0.90358779 0.901585   0.89088019 0.88570045 0.89094932 0.90510718\n",
      " 0.89233056 0.88293797 0.89309026 0.88473357 0.88010635 0.8725785\n",
      " 0.84108571 0.80669218 0.79978587 0.79895714 0.81090504 0.82485583\n",
      " 0.82817083 0.81366763 0.82658241 0.82395797 0.83155496 0.84785387\n",
      " 0.86574121 0.81532508 0.82160985 0.81173387 0.80386068 0.82872335\n",
      " 0.81608478 0.80607064 0.79785211 0.80344621 0.79771406 0.80296282\n",
      " 0.79515865 0.80358436 0.79053143 0.84067125 0.85109985 0.82444147\n",
      " 0.80158158 0.79205083 0.78542072 0.77133188 0.77713316 0.78445384\n",
      " 0.7990953  0.80510376 0.80102906 0.83003557 0.80814256 0.80102906\n",
      " 0.82678959 0.89827    0.88673646 0.89150173 0.89384996 0.90648853\n",
      " 0.8959909  0.91829827 0.92624049 0.94205602 0.94288474 0.94309192\n",
      " 0.9511723  0.96021966 0.95020542 0.85467327 0.85541677 0.85149038\n",
      " 0.84301609 0.83090997 0.81639272 0.80062586 0.78453648 0.76878422\n",
      " 0.75374365 0.73956323 0.72624367 0.71370745]\n",
      "13 day output [[0.7018486]]\n",
      "14 day input [0.97085534 0.97976444 0.9750682  0.9727891  0.96070305 0.95593767\n",
      " 0.93045335 0.90531436 0.92230395 0.91532861 0.92796707 0.93915538\n",
      " 0.93991507 0.93238722 0.93604755 0.92430673 0.9097344  0.90358779\n",
      " 0.901585   0.89088019 0.88570045 0.89094932 0.90510718 0.89233056\n",
      " 0.88293797 0.89309026 0.88473357 0.88010635 0.8725785  0.84108571\n",
      " 0.80669218 0.79978587 0.79895714 0.81090504 0.82485583 0.82817083\n",
      " 0.81366763 0.82658241 0.82395797 0.83155496 0.84785387 0.86574121\n",
      " 0.81532508 0.82160985 0.81173387 0.80386068 0.82872335 0.81608478\n",
      " 0.80607064 0.79785211 0.80344621 0.79771406 0.80296282 0.79515865\n",
      " 0.80358436 0.79053143 0.84067125 0.85109985 0.82444147 0.80158158\n",
      " 0.79205083 0.78542072 0.77133188 0.77713316 0.78445384 0.7990953\n",
      " 0.80510376 0.80102906 0.83003557 0.80814256 0.80102906 0.82678959\n",
      " 0.89827    0.88673646 0.89150173 0.89384996 0.90648853 0.8959909\n",
      " 0.91829827 0.92624049 0.94205602 0.94288474 0.94309192 0.9511723\n",
      " 0.96021966 0.95020542 0.85467327 0.85541677 0.85149038 0.84301609\n",
      " 0.83090997 0.81639272 0.80062586 0.78453648 0.76878422 0.75374365\n",
      " 0.73956323 0.72624367 0.71370745 0.70184863]\n",
      "14 day output [[0.6905643]]\n",
      "15 day input [0.97976444 0.9750682  0.9727891  0.96070305 0.95593767 0.93045335\n",
      " 0.90531436 0.92230395 0.91532861 0.92796707 0.93915538 0.93991507\n",
      " 0.93238722 0.93604755 0.92430673 0.9097344  0.90358779 0.901585\n",
      " 0.89088019 0.88570045 0.89094932 0.90510718 0.89233056 0.88293797\n",
      " 0.89309026 0.88473357 0.88010635 0.8725785  0.84108571 0.80669218\n",
      " 0.79978587 0.79895714 0.81090504 0.82485583 0.82817083 0.81366763\n",
      " 0.82658241 0.82395797 0.83155496 0.84785387 0.86574121 0.81532508\n",
      " 0.82160985 0.81173387 0.80386068 0.82872335 0.81608478 0.80607064\n",
      " 0.79785211 0.80344621 0.79771406 0.80296282 0.79515865 0.80358436\n",
      " 0.79053143 0.84067125 0.85109985 0.82444147 0.80158158 0.79205083\n",
      " 0.78542072 0.77133188 0.77713316 0.78445384 0.7990953  0.80510376\n",
      " 0.80102906 0.83003557 0.80814256 0.80102906 0.82678959 0.89827\n",
      " 0.88673646 0.89150173 0.89384996 0.90648853 0.8959909  0.91829827\n",
      " 0.92624049 0.94205602 0.94288474 0.94309192 0.9511723  0.96021966\n",
      " 0.95020542 0.85467327 0.85541677 0.85149038 0.84301609 0.83090997\n",
      " 0.81639272 0.80062586 0.78453648 0.76878422 0.75374365 0.73956323\n",
      " 0.72624367 0.71370745 0.70184863 0.69056427]\n",
      "15 day output [[0.6797688]]\n",
      "16 day input [0.9750682  0.9727891  0.96070305 0.95593767 0.93045335 0.90531436\n",
      " 0.92230395 0.91532861 0.92796707 0.93915538 0.93991507 0.93238722\n",
      " 0.93604755 0.92430673 0.9097344  0.90358779 0.901585   0.89088019\n",
      " 0.88570045 0.89094932 0.90510718 0.89233056 0.88293797 0.89309026\n",
      " 0.88473357 0.88010635 0.8725785  0.84108571 0.80669218 0.79978587\n",
      " 0.79895714 0.81090504 0.82485583 0.82817083 0.81366763 0.82658241\n",
      " 0.82395797 0.83155496 0.84785387 0.86574121 0.81532508 0.82160985\n",
      " 0.81173387 0.80386068 0.82872335 0.81608478 0.80607064 0.79785211\n",
      " 0.80344621 0.79771406 0.80296282 0.79515865 0.80358436 0.79053143\n",
      " 0.84067125 0.85109985 0.82444147 0.80158158 0.79205083 0.78542072\n",
      " 0.77133188 0.77713316 0.78445384 0.7990953  0.80510376 0.80102906\n",
      " 0.83003557 0.80814256 0.80102906 0.82678959 0.89827    0.88673646\n",
      " 0.89150173 0.89384996 0.90648853 0.8959909  0.91829827 0.92624049\n",
      " 0.94205602 0.94288474 0.94309192 0.9511723  0.96021966 0.95020542\n",
      " 0.85467327 0.85541677 0.85149038 0.84301609 0.83090997 0.81639272\n",
      " 0.80062586 0.78453648 0.76878422 0.75374365 0.73956323 0.72624367\n",
      " 0.71370745 0.70184863 0.69056427 0.6797688 ]\n",
      "16 day output [[0.66940206]]\n",
      "17 day input [0.9727891  0.96070305 0.95593767 0.93045335 0.90531436 0.92230395\n",
      " 0.91532861 0.92796707 0.93915538 0.93991507 0.93238722 0.93604755\n",
      " 0.92430673 0.9097344  0.90358779 0.901585   0.89088019 0.88570045\n",
      " 0.89094932 0.90510718 0.89233056 0.88293797 0.89309026 0.88473357\n",
      " 0.88010635 0.8725785  0.84108571 0.80669218 0.79978587 0.79895714\n",
      " 0.81090504 0.82485583 0.82817083 0.81366763 0.82658241 0.82395797\n",
      " 0.83155496 0.84785387 0.86574121 0.81532508 0.82160985 0.81173387\n",
      " 0.80386068 0.82872335 0.81608478 0.80607064 0.79785211 0.80344621\n",
      " 0.79771406 0.80296282 0.79515865 0.80358436 0.79053143 0.84067125\n",
      " 0.85109985 0.82444147 0.80158158 0.79205083 0.78542072 0.77133188\n",
      " 0.77713316 0.78445384 0.7990953  0.80510376 0.80102906 0.83003557\n",
      " 0.80814256 0.80102906 0.82678959 0.89827    0.88673646 0.89150173\n",
      " 0.89384996 0.90648853 0.8959909  0.91829827 0.92624049 0.94205602\n",
      " 0.94288474 0.94309192 0.9511723  0.96021966 0.95020542 0.85467327\n",
      " 0.85541677 0.85149038 0.84301609 0.83090997 0.81639272 0.80062586\n",
      " 0.78453648 0.76878422 0.75374365 0.73956323 0.72624367 0.71370745\n",
      " 0.70184863 0.69056427 0.6797688  0.66940206]\n",
      "17 day output [[0.6594215]]\n",
      "18 day input [0.96070305 0.95593767 0.93045335 0.90531436 0.92230395 0.91532861\n",
      " 0.92796707 0.93915538 0.93991507 0.93238722 0.93604755 0.92430673\n",
      " 0.9097344  0.90358779 0.901585   0.89088019 0.88570045 0.89094932\n",
      " 0.90510718 0.89233056 0.88293797 0.89309026 0.88473357 0.88010635\n",
      " 0.8725785  0.84108571 0.80669218 0.79978587 0.79895714 0.81090504\n",
      " 0.82485583 0.82817083 0.81366763 0.82658241 0.82395797 0.83155496\n",
      " 0.84785387 0.86574121 0.81532508 0.82160985 0.81173387 0.80386068\n",
      " 0.82872335 0.81608478 0.80607064 0.79785211 0.80344621 0.79771406\n",
      " 0.80296282 0.79515865 0.80358436 0.79053143 0.84067125 0.85109985\n",
      " 0.82444147 0.80158158 0.79205083 0.78542072 0.77133188 0.77713316\n",
      " 0.78445384 0.7990953  0.80510376 0.80102906 0.83003557 0.80814256\n",
      " 0.80102906 0.82678959 0.89827    0.88673646 0.89150173 0.89384996\n",
      " 0.90648853 0.8959909  0.91829827 0.92624049 0.94205602 0.94288474\n",
      " 0.94309192 0.9511723  0.96021966 0.95020542 0.85467327 0.85541677\n",
      " 0.85149038 0.84301609 0.83090997 0.81639272 0.80062586 0.78453648\n",
      " 0.76878422 0.75374365 0.73956323 0.72624367 0.71370745 0.70184863\n",
      " 0.69056427 0.6797688  0.66940206 0.6594215 ]\n",
      "18 day output [[0.6497984]]\n",
      "19 day input [0.95593767 0.93045335 0.90531436 0.92230395 0.91532861 0.92796707\n",
      " 0.93915538 0.93991507 0.93238722 0.93604755 0.92430673 0.9097344\n",
      " 0.90358779 0.901585   0.89088019 0.88570045 0.89094932 0.90510718\n",
      " 0.89233056 0.88293797 0.89309026 0.88473357 0.88010635 0.8725785\n",
      " 0.84108571 0.80669218 0.79978587 0.79895714 0.81090504 0.82485583\n",
      " 0.82817083 0.81366763 0.82658241 0.82395797 0.83155496 0.84785387\n",
      " 0.86574121 0.81532508 0.82160985 0.81173387 0.80386068 0.82872335\n",
      " 0.81608478 0.80607064 0.79785211 0.80344621 0.79771406 0.80296282\n",
      " 0.79515865 0.80358436 0.79053143 0.84067125 0.85109985 0.82444147\n",
      " 0.80158158 0.79205083 0.78542072 0.77133188 0.77713316 0.78445384\n",
      " 0.7990953  0.80510376 0.80102906 0.83003557 0.80814256 0.80102906\n",
      " 0.82678959 0.89827    0.88673646 0.89150173 0.89384996 0.90648853\n",
      " 0.8959909  0.91829827 0.92624049 0.94205602 0.94288474 0.94309192\n",
      " 0.9511723  0.96021966 0.95020542 0.85467327 0.85541677 0.85149038\n",
      " 0.84301609 0.83090997 0.81639272 0.80062586 0.78453648 0.76878422\n",
      " 0.75374365 0.73956323 0.72624367 0.71370745 0.70184863 0.69056427\n",
      " 0.6797688  0.66940206 0.6594215  0.64979839]\n",
      "19 day output [[0.64051753]]\n",
      "20 day input [0.93045335 0.90531436 0.92230395 0.91532861 0.92796707 0.93915538\n",
      " 0.93991507 0.93238722 0.93604755 0.92430673 0.9097344  0.90358779\n",
      " 0.901585   0.89088019 0.88570045 0.89094932 0.90510718 0.89233056\n",
      " 0.88293797 0.89309026 0.88473357 0.88010635 0.8725785  0.84108571\n",
      " 0.80669218 0.79978587 0.79895714 0.81090504 0.82485583 0.82817083\n",
      " 0.81366763 0.82658241 0.82395797 0.83155496 0.84785387 0.86574121\n",
      " 0.81532508 0.82160985 0.81173387 0.80386068 0.82872335 0.81608478\n",
      " 0.80607064 0.79785211 0.80344621 0.79771406 0.80296282 0.79515865\n",
      " 0.80358436 0.79053143 0.84067125 0.85109985 0.82444147 0.80158158\n",
      " 0.79205083 0.78542072 0.77133188 0.77713316 0.78445384 0.7990953\n",
      " 0.80510376 0.80102906 0.83003557 0.80814256 0.80102906 0.82678959\n",
      " 0.89827    0.88673646 0.89150173 0.89384996 0.90648853 0.8959909\n",
      " 0.91829827 0.92624049 0.94205602 0.94288474 0.94309192 0.9511723\n",
      " 0.96021966 0.95020542 0.85467327 0.85541677 0.85149038 0.84301609\n",
      " 0.83090997 0.81639272 0.80062586 0.78453648 0.76878422 0.75374365\n",
      " 0.73956323 0.72624367 0.71370745 0.70184863 0.69056427 0.6797688\n",
      " 0.66940206 0.6594215  0.64979839 0.64051753]\n",
      "20 day output [[0.6315657]]\n",
      "21 day input [0.90531436 0.92230395 0.91532861 0.92796707 0.93915538 0.93991507\n",
      " 0.93238722 0.93604755 0.92430673 0.9097344  0.90358779 0.901585\n",
      " 0.89088019 0.88570045 0.89094932 0.90510718 0.89233056 0.88293797\n",
      " 0.89309026 0.88473357 0.88010635 0.8725785  0.84108571 0.80669218\n",
      " 0.79978587 0.79895714 0.81090504 0.82485583 0.82817083 0.81366763\n",
      " 0.82658241 0.82395797 0.83155496 0.84785387 0.86574121 0.81532508\n",
      " 0.82160985 0.81173387 0.80386068 0.82872335 0.81608478 0.80607064\n",
      " 0.79785211 0.80344621 0.79771406 0.80296282 0.79515865 0.80358436\n",
      " 0.79053143 0.84067125 0.85109985 0.82444147 0.80158158 0.79205083\n",
      " 0.78542072 0.77133188 0.77713316 0.78445384 0.7990953  0.80510376\n",
      " 0.80102906 0.83003557 0.80814256 0.80102906 0.82678959 0.89827\n",
      " 0.88673646 0.89150173 0.89384996 0.90648853 0.8959909  0.91829827\n",
      " 0.92624049 0.94205602 0.94288474 0.94309192 0.9511723  0.96021966\n",
      " 0.95020542 0.85467327 0.85541677 0.85149038 0.84301609 0.83090997\n",
      " 0.81639272 0.80062586 0.78453648 0.76878422 0.75374365 0.73956323\n",
      " 0.72624367 0.71370745 0.70184863 0.69056427 0.6797688  0.66940206\n",
      " 0.6594215  0.64979839 0.64051753 0.63156569]\n",
      "21 day output [[0.62292767]]\n",
      "22 day input [0.92230395 0.91532861 0.92796707 0.93915538 0.93991507 0.93238722\n",
      " 0.93604755 0.92430673 0.9097344  0.90358779 0.901585   0.89088019\n",
      " 0.88570045 0.89094932 0.90510718 0.89233056 0.88293797 0.89309026\n",
      " 0.88473357 0.88010635 0.8725785  0.84108571 0.80669218 0.79978587\n",
      " 0.79895714 0.81090504 0.82485583 0.82817083 0.81366763 0.82658241\n",
      " 0.82395797 0.83155496 0.84785387 0.86574121 0.81532508 0.82160985\n",
      " 0.81173387 0.80386068 0.82872335 0.81608478 0.80607064 0.79785211\n",
      " 0.80344621 0.79771406 0.80296282 0.79515865 0.80358436 0.79053143\n",
      " 0.84067125 0.85109985 0.82444147 0.80158158 0.79205083 0.78542072\n",
      " 0.77133188 0.77713316 0.78445384 0.7990953  0.80510376 0.80102906\n",
      " 0.83003557 0.80814256 0.80102906 0.82678959 0.89827    0.88673646\n",
      " 0.89150173 0.89384996 0.90648853 0.8959909  0.91829827 0.92624049\n",
      " 0.94205602 0.94288474 0.94309192 0.9511723  0.96021966 0.95020542\n",
      " 0.85467327 0.85541677 0.85149038 0.84301609 0.83090997 0.81639272\n",
      " 0.80062586 0.78453648 0.76878422 0.75374365 0.73956323 0.72624367\n",
      " 0.71370745 0.70184863 0.69056427 0.6797688  0.66940206 0.6594215\n",
      " 0.64979839 0.64051753 0.63156569 0.62292767]\n",
      "22 day output [[0.614586]]\n",
      "23 day input [0.91532861 0.92796707 0.93915538 0.93991507 0.93238722 0.93604755\n",
      " 0.92430673 0.9097344  0.90358779 0.901585   0.89088019 0.88570045\n",
      " 0.89094932 0.90510718 0.89233056 0.88293797 0.89309026 0.88473357\n",
      " 0.88010635 0.8725785  0.84108571 0.80669218 0.79978587 0.79895714\n",
      " 0.81090504 0.82485583 0.82817083 0.81366763 0.82658241 0.82395797\n",
      " 0.83155496 0.84785387 0.86574121 0.81532508 0.82160985 0.81173387\n",
      " 0.80386068 0.82872335 0.81608478 0.80607064 0.79785211 0.80344621\n",
      " 0.79771406 0.80296282 0.79515865 0.80358436 0.79053143 0.84067125\n",
      " 0.85109985 0.82444147 0.80158158 0.79205083 0.78542072 0.77133188\n",
      " 0.77713316 0.78445384 0.7990953  0.80510376 0.80102906 0.83003557\n",
      " 0.80814256 0.80102906 0.82678959 0.89827    0.88673646 0.89150173\n",
      " 0.89384996 0.90648853 0.8959909  0.91829827 0.92624049 0.94205602\n",
      " 0.94288474 0.94309192 0.9511723  0.96021966 0.95020542 0.85467327\n",
      " 0.85541677 0.85149038 0.84301609 0.83090997 0.81639272 0.80062586\n",
      " 0.78453648 0.76878422 0.75374365 0.73956323 0.72624367 0.71370745\n",
      " 0.70184863 0.69056427 0.6797688  0.66940206 0.6594215  0.64979839\n",
      " 0.64051753 0.63156569 0.62292767 0.614586  ]\n",
      "23 day output [[0.60652447]]\n",
      "24 day input [0.92796707 0.93915538 0.93991507 0.93238722 0.93604755 0.92430673\n",
      " 0.9097344  0.90358779 0.901585   0.89088019 0.88570045 0.89094932\n",
      " 0.90510718 0.89233056 0.88293797 0.89309026 0.88473357 0.88010635\n",
      " 0.8725785  0.84108571 0.80669218 0.79978587 0.79895714 0.81090504\n",
      " 0.82485583 0.82817083 0.81366763 0.82658241 0.82395797 0.83155496\n",
      " 0.84785387 0.86574121 0.81532508 0.82160985 0.81173387 0.80386068\n",
      " 0.82872335 0.81608478 0.80607064 0.79785211 0.80344621 0.79771406\n",
      " 0.80296282 0.79515865 0.80358436 0.79053143 0.84067125 0.85109985\n",
      " 0.82444147 0.80158158 0.79205083 0.78542072 0.77133188 0.77713316\n",
      " 0.78445384 0.7990953  0.80510376 0.80102906 0.83003557 0.80814256\n",
      " 0.80102906 0.82678959 0.89827    0.88673646 0.89150173 0.89384996\n",
      " 0.90648853 0.8959909  0.91829827 0.92624049 0.94205602 0.94288474\n",
      " 0.94309192 0.9511723  0.96021966 0.95020542 0.85467327 0.85541677\n",
      " 0.85149038 0.84301609 0.83090997 0.81639272 0.80062586 0.78453648\n",
      " 0.76878422 0.75374365 0.73956323 0.72624367 0.71370745 0.70184863\n",
      " 0.69056427 0.6797688  0.66940206 0.6594215  0.64979839 0.64051753\n",
      " 0.63156569 0.62292767 0.614586   0.60652447]\n",
      "24 day output [[0.5987272]]\n",
      "25 day input [0.93915538 0.93991507 0.93238722 0.93604755 0.92430673 0.9097344\n",
      " 0.90358779 0.901585   0.89088019 0.88570045 0.89094932 0.90510718\n",
      " 0.89233056 0.88293797 0.89309026 0.88473357 0.88010635 0.8725785\n",
      " 0.84108571 0.80669218 0.79978587 0.79895714 0.81090504 0.82485583\n",
      " 0.82817083 0.81366763 0.82658241 0.82395797 0.83155496 0.84785387\n",
      " 0.86574121 0.81532508 0.82160985 0.81173387 0.80386068 0.82872335\n",
      " 0.81608478 0.80607064 0.79785211 0.80344621 0.79771406 0.80296282\n",
      " 0.79515865 0.80358436 0.79053143 0.84067125 0.85109985 0.82444147\n",
      " 0.80158158 0.79205083 0.78542072 0.77133188 0.77713316 0.78445384\n",
      " 0.7990953  0.80510376 0.80102906 0.83003557 0.80814256 0.80102906\n",
      " 0.82678959 0.89827    0.88673646 0.89150173 0.89384996 0.90648853\n",
      " 0.8959909  0.91829827 0.92624049 0.94205602 0.94288474 0.94309192\n",
      " 0.9511723  0.96021966 0.95020542 0.85467327 0.85541677 0.85149038\n",
      " 0.84301609 0.83090997 0.81639272 0.80062586 0.78453648 0.76878422\n",
      " 0.75374365 0.73956323 0.72624367 0.71370745 0.70184863 0.69056427\n",
      " 0.6797688  0.66940206 0.6594215  0.64979839 0.64051753 0.63156569\n",
      " 0.62292767 0.614586   0.60652447 0.59872723]\n"
     ]
    },
    {
     "name": "stdout",
     "output_type": "stream",
     "text": [
      "25 day output [[0.5911807]]\n",
      "26 day input [0.93991507 0.93238722 0.93604755 0.92430673 0.9097344  0.90358779\n",
      " 0.901585   0.89088019 0.88570045 0.89094932 0.90510718 0.89233056\n",
      " 0.88293797 0.89309026 0.88473357 0.88010635 0.8725785  0.84108571\n",
      " 0.80669218 0.79978587 0.79895714 0.81090504 0.82485583 0.82817083\n",
      " 0.81366763 0.82658241 0.82395797 0.83155496 0.84785387 0.86574121\n",
      " 0.81532508 0.82160985 0.81173387 0.80386068 0.82872335 0.81608478\n",
      " 0.80607064 0.79785211 0.80344621 0.79771406 0.80296282 0.79515865\n",
      " 0.80358436 0.79053143 0.84067125 0.85109985 0.82444147 0.80158158\n",
      " 0.79205083 0.78542072 0.77133188 0.77713316 0.78445384 0.7990953\n",
      " 0.80510376 0.80102906 0.83003557 0.80814256 0.80102906 0.82678959\n",
      " 0.89827    0.88673646 0.89150173 0.89384996 0.90648853 0.8959909\n",
      " 0.91829827 0.92624049 0.94205602 0.94288474 0.94309192 0.9511723\n",
      " 0.96021966 0.95020542 0.85467327 0.85541677 0.85149038 0.84301609\n",
      " 0.83090997 0.81639272 0.80062586 0.78453648 0.76878422 0.75374365\n",
      " 0.73956323 0.72624367 0.71370745 0.70184863 0.69056427 0.6797688\n",
      " 0.66940206 0.6594215  0.64979839 0.64051753 0.63156569 0.62292767\n",
      " 0.614586   0.60652447 0.59872723 0.59118068]\n",
      "26 day output [[0.5838722]]\n",
      "27 day input [0.93238722 0.93604755 0.92430673 0.9097344  0.90358779 0.901585\n",
      " 0.89088019 0.88570045 0.89094932 0.90510718 0.89233056 0.88293797\n",
      " 0.89309026 0.88473357 0.88010635 0.8725785  0.84108571 0.80669218\n",
      " 0.79978587 0.79895714 0.81090504 0.82485583 0.82817083 0.81366763\n",
      " 0.82658241 0.82395797 0.83155496 0.84785387 0.86574121 0.81532508\n",
      " 0.82160985 0.81173387 0.80386068 0.82872335 0.81608478 0.80607064\n",
      " 0.79785211 0.80344621 0.79771406 0.80296282 0.79515865 0.80358436\n",
      " 0.79053143 0.84067125 0.85109985 0.82444147 0.80158158 0.79205083\n",
      " 0.78542072 0.77133188 0.77713316 0.78445384 0.7990953  0.80510376\n",
      " 0.80102906 0.83003557 0.80814256 0.80102906 0.82678959 0.89827\n",
      " 0.88673646 0.89150173 0.89384996 0.90648853 0.8959909  0.91829827\n",
      " 0.92624049 0.94205602 0.94288474 0.94309192 0.9511723  0.96021966\n",
      " 0.95020542 0.85467327 0.85541677 0.85149038 0.84301609 0.83090997\n",
      " 0.81639272 0.80062586 0.78453648 0.76878422 0.75374365 0.73956323\n",
      " 0.72624367 0.71370745 0.70184863 0.69056427 0.6797688  0.66940206\n",
      " 0.6594215  0.64979839 0.64051753 0.63156569 0.62292767 0.614586\n",
      " 0.60652447 0.59872723 0.59118068 0.5838722 ]\n",
      "27 day output [[0.5767901]]\n",
      "28 day input [0.93604755 0.92430673 0.9097344  0.90358779 0.901585   0.89088019\n",
      " 0.88570045 0.89094932 0.90510718 0.89233056 0.88293797 0.89309026\n",
      " 0.88473357 0.88010635 0.8725785  0.84108571 0.80669218 0.79978587\n",
      " 0.79895714 0.81090504 0.82485583 0.82817083 0.81366763 0.82658241\n",
      " 0.82395797 0.83155496 0.84785387 0.86574121 0.81532508 0.82160985\n",
      " 0.81173387 0.80386068 0.82872335 0.81608478 0.80607064 0.79785211\n",
      " 0.80344621 0.79771406 0.80296282 0.79515865 0.80358436 0.79053143\n",
      " 0.84067125 0.85109985 0.82444147 0.80158158 0.79205083 0.78542072\n",
      " 0.77133188 0.77713316 0.78445384 0.7990953  0.80510376 0.80102906\n",
      " 0.83003557 0.80814256 0.80102906 0.82678959 0.89827    0.88673646\n",
      " 0.89150173 0.89384996 0.90648853 0.8959909  0.91829827 0.92624049\n",
      " 0.94205602 0.94288474 0.94309192 0.9511723  0.96021966 0.95020542\n",
      " 0.85467327 0.85541677 0.85149038 0.84301609 0.83090997 0.81639272\n",
      " 0.80062586 0.78453648 0.76878422 0.75374365 0.73956323 0.72624367\n",
      " 0.71370745 0.70184863 0.69056427 0.6797688  0.66940206 0.6594215\n",
      " 0.64979839 0.64051753 0.63156569 0.62292767 0.614586   0.60652447\n",
      " 0.59872723 0.59118068 0.5838722  0.57679009]\n",
      "28 day output [[0.5699267]]\n",
      "29 day input [0.92430673 0.9097344  0.90358779 0.901585   0.89088019 0.88570045\n",
      " 0.89094932 0.90510718 0.89233056 0.88293797 0.89309026 0.88473357\n",
      " 0.88010635 0.8725785  0.84108571 0.80669218 0.79978587 0.79895714\n",
      " 0.81090504 0.82485583 0.82817083 0.81366763 0.82658241 0.82395797\n",
      " 0.83155496 0.84785387 0.86574121 0.81532508 0.82160985 0.81173387\n",
      " 0.80386068 0.82872335 0.81608478 0.80607064 0.79785211 0.80344621\n",
      " 0.79771406 0.80296282 0.79515865 0.80358436 0.79053143 0.84067125\n",
      " 0.85109985 0.82444147 0.80158158 0.79205083 0.78542072 0.77133188\n",
      " 0.77713316 0.78445384 0.7990953  0.80510376 0.80102906 0.83003557\n",
      " 0.80814256 0.80102906 0.82678959 0.89827    0.88673646 0.89150173\n",
      " 0.89384996 0.90648853 0.8959909  0.91829827 0.92624049 0.94205602\n",
      " 0.94288474 0.94309192 0.9511723  0.96021966 0.95020542 0.85467327\n",
      " 0.85541677 0.85149038 0.84301609 0.83090997 0.81639272 0.80062586\n",
      " 0.78453648 0.76878422 0.75374365 0.73956323 0.72624367 0.71370745\n",
      " 0.70184863 0.69056427 0.6797688  0.66940206 0.6594215  0.64979839\n",
      " 0.64051753 0.63156569 0.62292767 0.614586   0.60652447 0.59872723\n",
      " 0.59118068 0.5838722  0.57679009 0.56992668]\n",
      "29 day output [[0.5632731]]\n",
      "[[0.8546732664108276], [0.8554167747497559], [0.8514903783798218], [0.8430160880088806], [0.8309099674224854], [0.816392719745636], [0.8006258606910706], [0.7845364809036255], [0.76878422498703], [0.7537436485290527], [0.7395632266998291], [0.7262436747550964], [0.713707447052002], [0.7018486261367798], [0.6905642747879028], [0.6797688007354736], [0.6694020628929138], [0.6594215035438538], [0.6497983932495117], [0.64051753282547], [0.6315656900405884], [0.6229276657104492], [0.6145859956741333], [0.6065244674682617], [0.5987272262573242], [0.591180682182312], [0.5838721990585327], [0.5767900943756104], [0.5699266791343689], [0.5632730722427368]]\n"
     ]
    }
   ],
   "source": [
    "from numpy import array\n",
    "\n",
    "lst_output=[]\n",
    "n_steps=100\n",
    "i=0\n",
    "while(i<30):\n",
    "    \n",
    "    if(len(temp_input)>100):\n",
    "        x_input=np.array(temp_input[1:])\n",
    "        print(\"{} day input {}\".format(i,x_input))\n",
    "        x_input=x_input.reshape(1,-1)\n",
    "        x_input = x_input.reshape((1, n_steps, 1))\n",
    "        #print(x_input)\n",
    "        yhat = model.predict(x_input, verbose=0)\n",
    "        print(\"{} day output {}\".format(i,yhat))\n",
    "        temp_input.extend(yhat[0].tolist())\n",
    "        temp_input=temp_input[1:]\n",
    "        #print(temp_input)\n",
    "        lst_output.extend(yhat.tolist())\n",
    "        i=i+1\n",
    "    else:\n",
    "        x_input = x_input.reshape((1, n_steps,1))\n",
    "        yhat = model.predict(x_input, verbose=0)\n",
    "        print(yhat[0])\n",
    "        temp_input.extend(yhat[0].tolist())\n",
    "        print(len(temp_input))\n",
    "        lst_output.extend(yhat.tolist())\n",
    "        i=i+1\n",
    "    \n",
    "\n",
    "print(lst_output)\n",
    "        "
   ]
  },
  {
   "cell_type": "code",
   "execution_count": 394,
   "metadata": {},
   "outputs": [],
   "source": [
    "day_new=np.arange(1,101)\n",
    "day_pred=np.arange(101,131)"
   ]
  },
  {
   "cell_type": "code",
   "execution_count": 395,
   "metadata": {},
   "outputs": [
    {
     "data": {
      "text/plain": [
       "3621"
      ]
     },
     "execution_count": 395,
     "metadata": {},
     "output_type": "execute_result"
    }
   ],
   "source": [
    "len(df1)"
   ]
  },
  {
   "cell_type": "code",
   "execution_count": 396,
   "metadata": {},
   "outputs": [
    {
     "data": {
      "text/plain": [
       "[<matplotlib.lines.Line2D at 0x18f9b9640>]"
      ]
     },
     "execution_count": 396,
     "metadata": {},
     "output_type": "execute_result"
    },
    {
     "data": {
      "image/png": "[encoded data removed]",
      "text/plain": [
       "<Figure size 640x480 with 1 Axes>"
      ]
     },
     "metadata": {},
     "output_type": "display_data"
    }
   ],
   "source": [
    "plt.plot(day_new,scaler.inverse_transform(df1[3521:]))\n",
    "plt.plot(day_pred,scaler.inverse_transform(lst_output))"
   ]
  },
  {
   "cell_type": "code",
   "execution_count": 397,
   "metadata": {},
   "outputs": [
    {
     "data": {
      "text/plain": [
       "[<matplotlib.lines.Line2D at 0x18fa02eb0>]"
      ]
     },
     "execution_count": 397,
     "metadata": {},
     "output_type": "execute_result"
    },
    {
     "data": {
      "image/png": "[encoded data removed]",
      "text/plain": [
       "<Figure size 640x480 with 1 Axes>"
      ]
     },
     "metadata": {},
     "output_type": "display_data"
    }
   ],
   "source": [
    "df3=df1.tolist()\n",
    "df3.extend(lst_output)\n",
    "plt.plot(df3[3550:])"
   ]
  },
  {
   "cell_type": "code",
   "execution_count": 398,
   "metadata": {},
   "outputs": [],
   "source": [
    "df3=scaler.inverse_transform(df3).tolist()"
   ]
  },
  {
   "cell_type": "code",
   "execution_count": 399,
   "metadata": {},
   "outputs": [
    {
     "data": {
      "text/plain": [
       "[<matplotlib.lines.Line2D at 0x18f9fc250>]"
      ]
     },
     "execution_count": 399,
     "metadata": {},
     "output_type": "execute_result"
    },
    {
     "data": {
      "image/png": "[encoded data removed]",
      "text/plain": [
       "<Figure size 640x480 with 1 Axes>"
      ]
     },
     "metadata": {},
     "output_type": "display_data"
    }
   ],
   "source": [
    "plt.plot(df3)"
   ]
  }
 ],
 "metadata": {
  "kernelspec": {
   "display_name": "Python 3",
   "language": "python",
   "name": "python3"
  },
  "language_info": {
   "codemirror_mode": {
    "name": "ipython",
    "version": 3
   },
   "file_extension": ".py",
   "mimetype": "text/x-python",
   "name": "python",
   "nbconvert_exporter": "python",
   "pygments_lexer": "ipython3",
   "version": "3.9.6"
  }
 },
 "nbformat": 4,
 "nbformat_minor": 2
}
